{
 "cells": [
  {
   "cell_type": "markdown",
   "metadata": {},
   "source": [
    "# Book Details\n",
    "\n",
    "<b>Book 1</b>\n",
    "\n",
    "<b>Book Title</b> - Off Sandy Hook, and other stories<br>\n",
    "<b>Author's Name</b> - Richard Dehan<br>\n",
    "<b>Language</b>: English<br>\n",
    "<b>Subjects</b> - Fiction, Short stories<br>\n",
    "<b>Number of Sentences</b> - 11202<br>\n",
    "<b>Number of Words</b> - 98822<br>\n",
    "<b>Character set encoding</b> - UTF-8<br>\n",
    "\n",
    "\n",
    "<b> Book 2</b>\n",
    "\n",
    "<b>Book Title</b> - A Book<br>\n",
    "<b>Author's Name</b> - Djuna Barnes<br>\n",
    "<b>Language</b>: English<br>\n",
    "<b>Subjects</b> - Fiction<br>\n",
    "<b>Number of Sentences</b> - 1967<br>\n",
    "<b>Number of Words</b> - 43897<br>\n",
    "<b>Character set encoding</b> - UTF-8<br>"
   ]
  },
  {
   "cell_type": "markdown",
   "metadata": {},
   "source": [
    "This is part of NLP-Projects Round-2. \n",
    "In this project, we have used the following libraries and toolkits:\n",
    "* **nltk** - A leading platform in Python designed to provide easy-to-use interfaces to over 50 corpora and lexical resources such as WordNet, along with a suite of text processing libraries. These libraries are used for classification, tokenisation, lemmatisation etc.\n",
    "* **string** - This module consists of basic operations that can be performed on string.\n",
    "* **WordNetLemmatizer** - It is a package for lemmatization. Lemmatization is the process of grouping together the words having similar meaning to a particular word.\n",
    "* **stopwords** - Set of commonly used words that are mostly ignored in text processing.\n",
    "* **matplotlib** - Library used for data visualisation. In other words, it is used for plotting the relationship among different components.\n",
    "* **re** - Library used for operations on regular expressions.\n",
    "* **spaCy** - It is a free, open-source library for advanced Natural Language Processing (NLP) in Python. It is designed specifically for production use and helps in building applications that process large volumes of text.\n",
    "* **en_core_web_sm** - This Library is part of spacy which allows your application to handle a model like any other package dependency.\n",
    "* **seqeval** - A Python framework for sequence labeling evaluation. It is used to evaluate the performance of chunking tasks such as named-entity recognition, part-of-speech tagging, semantic role labeling etc."
   ]
  },
  {
   "cell_type": "markdown",
   "metadata": {},
   "source": [
    "#### To begin, we import all the necssary libraries."
   ]
  },
  {
   "cell_type": "code",
   "execution_count": 1,
   "metadata": {},
   "outputs": [],
   "source": [
    "import nltk\n",
    "import string\n",
    "from nltk.stem import WordNetLemmatizer\n",
    "from nltk.corpus import stopwords\n",
    "from nltk.corpus import brown\n",
    "import matplotlib.pyplot as plt\n",
    "import numpy as np\n",
    "import re"
   ]
  },
  {
   "cell_type": "markdown",
   "metadata": {},
   "source": [
    "# Preprocessing"
   ]
  },
  {
   "cell_type": "markdown",
   "metadata": {},
   "source": [
    "<b> Book 1</b>"
   ]
  },
  {
   "cell_type": "markdown",
   "metadata": {},
   "source": [
    "<b>Now, open the book and read it in a variable *file*. Further, we read the contents of the book in another variable *T*.\n",
    "We declare a variable *T2* equal to *T* in case we require the original text later in the process as *T* will undergo text processing.</b>"
   ]
  },
  {
   "cell_type": "code",
   "execution_count": 2,
   "metadata": {
    "scrolled": false
   },
   "outputs": [
    {
     "name": "stdout",
     "output_type": "stream",
     "text": [
      "﻿Project Gutenberg's Off Sandy Hook and other stories, by Richard Dehan\n",
      "\n",
      "This eBook is for the use of anyone anywhere in the United States and most\n",
      "other parts of the world at no cost and with almost no restrictions\n",
      "whatsoever.  You may copy it, give it away or re-use it under the terms of\n",
      "the Project Gutenberg License included with this eBook or online at\n",
      "www.gutenberg.org.  If you are not located in the United States, you'll have\n",
      "to check the laws of the country where you are located before using this ebook.\n",
      "\n",
      "Title: Off Sandy Hook and other stories\n",
      "\n",
      "Author: Richard Dehan\n",
      "\n",
      "Release Date: October 8, 2019 [EBook #60452]\n",
      "\n",
      "Language: English\n",
      "\n",
      "Character set encoding: UTF-8\n",
      "\n",
      "*** START OF THIS PROJECT GUTENBERG EBOOK OFF SANDY HOOK AND OTHER STORIES ***\n",
      "\n",
      "\n",
      "\n",
      "\n",
      "Produced by Richard Tonsing and the Online Distributed\n",
      "Proofreading Team at http://www.pgdp.net (This file was\n",
      "produced from images generously made available by The\n",
      "Internet Archive)\n",
      "\n",
      "\n",
      "\n",
      "\n",
      "\n",
      "\n",
      "\n",
      "\n",
      "\n",
      "                             OFF SANDY HOOK\n",
      "\n",
      "   \n"
     ]
    }
   ],
   "source": [
    "#Reading Book\n",
    "file = open(\"Sandy_Hook_NLP.txt\",encoding=\"utf8\")\n",
    "\n",
    "# variable T\n",
    "T = file.read()\n",
    "\n",
    "# variable T2\n",
    "T2=T\n",
    "\n",
    "# Printing the contents of the book stored in T\n",
    "print(T[:1000])"
   ]
  },
  {
   "cell_type": "markdown",
   "metadata": {},
   "source": [
    "<b>Removal of the acknowledgement section and transcriber's note is done by using the substitution function and regular expressions.</b>"
   ]
  },
  {
   "cell_type": "code",
   "execution_count": 3,
   "metadata": {
    "scrolled": false
   },
   "outputs": [
    {
     "name": "stdout",
     "output_type": "stream",
     "text": [
      "﻿\n",
      "\n",
      "\n",
      "                                                PAGE\n",
      "                   OFF SANDY HOOK                  1\n",
      "\n",
      "                   GEMINI                         15\n",
      "\n",
      "                   A DISH OF MACARONI             31\n",
      "\n",
      "                   “FREDDY & C^{IE}”              44\n",
      "\n",
      "                   UNDER THE ELECTRICS            60\n",
      "\n",
      "                   “VALCOURT’S GRIN”              68\n",
      "\n",
      "                   THE EVOLUTION OF THE FAIREST   81\n",
      "\n",
      "                   THE REVOLT OF RUSTLETON        95\n",
      "\n",
      "                   A DYSPEPTIC’S TRAGEDY         107\n",
      "\n",
      "                   RENOVATION                    119\n",
      "\n",
      "                   THE BREAKING PLACE            133\n",
      "\n",
      "                   A LANCASHIRE DAISY            143\n",
      "\n",
      "                   A PITCHED BATTLE              154\n",
      "\n",
      "                   THE TUG OF WAR                164\n",
      "\n",
      "                   GAS!                          180\n",
      "\n",
      "                   AIR                           193\n",
      "\n",
      "                   SIDE!                         205\n",
      "\n",
      "                   A SPIR\n"
     ]
    }
   ],
   "source": [
    "# Removing acknowledgement\n",
    "T = re.sub(\"Project[\\s\\S]*CONTENTS\",\"\",T)\n",
    "T = re.sub(\"TRANSCRIBER[\\s\\S]*\",\"\",T)\n",
    "print(T[:1000])"
   ]
  },
  {
   "cell_type": "markdown",
   "metadata": {},
   "source": [
    "<b>Similarly as above, we remove the chapter names from the index of the book.</b>"
   ]
  },
  {
   "cell_type": "code",
   "execution_count": 4,
   "metadata": {
    "scrolled": true
   },
   "outputs": [
    {
     "name": "stdout",
     "output_type": "stream",
     "text": [
      "﻿\n",
      "\n",
      "\n",
      "                                                \n",
      "                                       1\n",
      "\n",
      "                                            15\n",
      "\n",
      "                   A                31\n",
      "\n",
      "                   “ & C^{}”              44\n",
      "\n",
      "                                 60\n",
      "\n",
      "                   “’S ”              68\n",
      "\n",
      "                          81\n",
      "\n",
      "                              95\n",
      "\n",
      "                   A ’S          107\n",
      "\n",
      "                                       119\n",
      "\n",
      "                                 133\n",
      "\n",
      "                   A              143\n",
      "\n",
      "                   A                154\n",
      "\n",
      "                                      164\n",
      "\n",
      "                   !                          180\n",
      "\n",
      "                                              193\n",
      "\n",
      "                   !                         205\n",
      "\n",
      "                   A              219\n",
      "\n",
      "                    ’S               230\n",
      "\n",
      "                              241\n",
      "\n",
      "                    ’S          264\n",
      "\n",
      "                    ’S          276\n",
      "\n",
      "                                         28\n"
     ]
    }
   ],
   "source": [
    "# Removing Chapter Names\n",
    "T=re.sub(\"[A-Z]{2,}\",\"\",T)\n",
    "print(T[:1000])"
   ]
  },
  {
   "cell_type": "markdown",
   "metadata": {},
   "source": [
    "<b>Now, we remove the Chapter Numbers using the substitution function and regular expression.</b>"
   ]
  },
  {
   "cell_type": "code",
   "execution_count": 5,
   "metadata": {
    "scrolled": false
   },
   "outputs": [
    {
     "name": "stdout",
     "output_type": "stream",
     "text": [
      "﻿\n",
      "\n",
      "\n",
      "                                                \n",
      "                                       \n",
      "\n",
      "                                            \n",
      "\n",
      "                   A                \n",
      "\n",
      "                   “ & C^{}”              \n",
      "\n",
      "                                 \n",
      "\n",
      "                   “’S ”              \n",
      "\n",
      "                          \n",
      "\n",
      "                              \n",
      "\n",
      "                   A ’S          \n",
      "\n",
      "                                       \n",
      "\n",
      "                                 \n",
      "\n",
      "                   A              \n",
      "\n",
      "                   A                \n",
      "\n",
      "                                      \n",
      "\n",
      "                   !                          \n",
      "\n",
      "                                              \n",
      "\n",
      "                   !                         \n",
      "\n",
      "                   A              \n",
      "\n",
      "                    ’S               \n",
      "\n",
      "                              \n",
      "\n",
      "                    ’S          \n",
      "\n",
      "                    ’S          \n",
      "\n",
      "                                         \n",
      "\n",
      "                   A            \n",
      "\n",
      "                   “—  \n"
     ]
    }
   ],
   "source": [
    "# Removing Chapter Numbers\n",
    "T=re.sub(\"[0-9]+\",\"\",T)\n",
    "print(T[:1000])"
   ]
  },
  {
   "cell_type": "markdown",
   "metadata": {},
   "source": [
    "<b>Splitting the lines and joining them into one.</b>"
   ]
  },
  {
   "cell_type": "code",
   "execution_count": 6,
   "metadata": {},
   "outputs": [
    {
     "name": "stdout",
     "output_type": "stream",
     "text": [
      " On board the Rampatina liner, eleven days and a half out from Liverpool, the usual terrific sensation created by the appearance of the pilot-yacht prevailed. Necks were craned and toes were trodden on as the steamer slackened speed, and a line dexterously thrown by a blue-jerseyed deck-hand was caught by somebody aboard the yacht. The pilot, not insensible to the fact of his being a personage of note, carefully divested his bearded countenance of all expression as he saluted the Captain, and taking from the deck-steward obsequiously proffered salver a glass containing four-fingers of neat Bourbon whisky, concealed its contents about his person without perceptible emotion, and went up with the First Officer upon the upper bridge as the relieved skipper plunged below. The telegraphs clicked their message—the leviathan hulk of the liner quivered and began to forge slowly ahead, and an intelligent-looking, thin-lipped, badly-shaved young man in a bowler, tweeds, and striped necktie, intro\n"
     ]
    }
   ],
   "source": [
    "# splitting the lines and joining them into one.\n",
    "T = \" \".join(T.split())\n",
    "T=T.replace(T[:51],'')\n",
    "T = T.replace('”', '')\n",
    "T = T.replace('“', '')\n",
    "T = T.replace(\"’s\", '')\n",
    "T = T.replace(\"’d\", '')\n",
    "T = T.replace(\"‘\", '')\n",
    "T2=T\n",
    "print(T[:1000])"
   ]
  },
  {
   "cell_type": "markdown",
   "metadata": {},
   "source": [
    "<b>Tokenisation is splitting a string into words, thus, forming a list of words known as tokens.\n",
    "For tokenisation, we use a library from *nltk* known as *tokenise*. The library consists of function *word_tokenize()* which takes the string, here *T* as the parameter and returns the list as shown in the output. We did this because it helps in easily interpreting the text by analyzing the tokens present in the it.</b>"
   ]
  },
  {
   "cell_type": "code",
   "execution_count": 7,
   "metadata": {
    "scrolled": true
   },
   "outputs": [
    {
     "name": "stdout",
     "output_type": "stream",
     "text": [
      "['On', 'board', 'the', 'Rampatina', 'liner', ',', 'eleven', 'days', 'and', 'a', 'half', 'out', 'from', 'Liverpool', ',', 'the', 'usual', 'terrific', 'sensation', 'created', 'by', 'the', 'appearance', 'of', 'the', 'pilot-yacht', 'prevailed', '.', 'Necks', 'were', 'craned', 'and', 'toes', 'were', 'trodden', 'on', 'as', 'the', 'steamer', 'slackened', 'speed', ',', 'and', 'a', 'line', 'dexterously', 'thrown', 'by', 'a', 'blue-jerseyed', 'deck-hand', 'was', 'caught', 'by', 'somebody', 'aboard', 'the', 'yacht', '.', 'The', 'pilot', ',', 'not', 'insensible', 'to', 'the', 'fact', 'of', 'his', 'being', 'a', 'personage', 'of', 'note', ',', 'carefully', 'divested', 'his', 'bearded', 'countenance', 'of', 'all', 'expression', 'as', 'he', 'saluted', 'the', 'Captain', ',', 'and', 'taking', 'from', 'the', 'deck-steward', 'obsequiously', 'proffered', 'salver', 'a', 'glass', 'containing']\n"
     ]
    }
   ],
   "source": [
    "# Tokenisation\n",
    "from nltk.tokenize import word_tokenize\n",
    "\n",
    "T = word_tokenize(T)\n",
    "print(T[:100])"
   ]
  },
  {
   "cell_type": "markdown",
   "metadata": {},
   "source": [
    "<b>Lemmatization is grouping together of the different forms of a word having similar meaning that is reducing the inflected forms and sometimes derivationally related forms of a word to a common base form to ease the analysis of the document. It is better than stemming because it dosen't reduce the word in a crude way.</b>"
   ]
  },
  {
   "cell_type": "code",
   "execution_count": 8,
   "metadata": {
    "scrolled": true
   },
   "outputs": [
    {
     "name": "stdout",
     "output_type": "stream",
     "text": [
      "['On', 'board', 'Rampatina', 'liner', 'eleven', 'day', 'half', 'Liverpool', 'usual', 'terrific', 'sensation', 'created', 'appearance', 'pilot-yacht', 'prevailed', 'Necks', 'craned', 'toe', 'trodden', 'steamer', 'slackened', 'speed', 'line', 'dexterously', 'thrown', 'blue-jerseyed', 'deck-hand', 'caught', 'somebody', 'aboard', 'yacht', 'The', 'pilot', 'insensible', 'fact', 'personage', 'note', 'carefully', 'divested', 'bearded', 'countenance', 'expression', 'saluted', 'Captain', 'taking', 'deck-steward', 'obsequiously', 'proffered', 'salver', 'glass', 'containing', 'four-fingers', 'neat', 'Bourbon', 'whisky', 'concealed', 'content', 'person', 'without', 'perceptible', 'emotion', 'went', 'First', 'Officer', 'upon', 'upper', 'bridge', 'relieved', 'skipper', 'plunged', 'The', 'telegraph', 'clicked', 'message—the', 'leviathan', 'hulk', 'liner', 'quivered', 'began', 'forge', 'slowly', 'ahead', 'intelligent-looking', 'thin-lipped', 'badly-shaved', 'young', 'man', 'bowler', 'tweed', 'striped', 'necktie', 'introduced', 'Second', 'Officer', 'emissary', 'Press', 'Mr.', 'Cyrus', 'K.', 'Pillson']\n"
     ]
    }
   ],
   "source": [
    "# Lemmatisation\n",
    "lemmatizer = WordNetLemmatizer()\n",
    "\n",
    "# forming a set of stopwords from english language\n",
    "stop_words = set(stopwords.words('english'))\n",
    "\n",
    "# creating an empty list\n",
    "lemmatized_T=[]\n",
    "\n",
    "# traversing all the words\n",
    "for word in T:\n",
    "    # if the word has a length greater than or equal to 2 and is not a stopword\n",
    "    if len(word) >= 2 and word not in stop_words:\n",
    "        # then we append the word into the list lemmatized_T after performing lemmatization \n",
    "        # using the lemmatize() function\n",
    "        lemmatized_T.append(lemmatizer.lemmatize(word))\n",
    "        \n",
    "# printing the list of lemmatized words\n",
    "print(lemmatized_T[:100])"
   ]
  },
  {
   "cell_type": "markdown",
   "metadata": {},
   "source": [
    "From Graph it is clearly visible that <b>contact</b> category occures the most in verbs."
   ]
  },
  {
   "cell_type": "markdown",
   "metadata": {},
   "source": [
    "<b>Book 2</b>"
   ]
  },
  {
   "cell_type": "markdown",
   "metadata": {},
   "source": [
    "<b>For Book 2, we use the same steps of preprcessing as for Book 1.</b>"
   ]
  },
  {
   "cell_type": "code",
   "execution_count": 9,
   "metadata": {},
   "outputs": [
    {
     "name": "stdout",
     "output_type": "stream",
     "text": [
      "﻿The Project Gutenberg EBook of A Book, by Djuna Barnes\n",
      "\n",
      "This eBook is for the use of anyone anywhere in the United States and\n",
      "most other parts of the world at no cost and with almost no restrictions\n",
      "whatsoever.  You may copy it, give it away or re-use it under the terms\n",
      "of the Project Gutenberg License included with this eBook or online at\n",
      "www.gutenberg.org.  If you are not located in the United States, you'll\n",
      "have to check the laws of the country where you are located before using\n",
      "this ebook.\n",
      "\n",
      "\n",
      "\n",
      "Title: A Book\n",
      "\n",
      "Author: Djuna Barnes\n",
      "\n",
      "Release Date: December 11, 2019 [EBook #60904]\n",
      "\n",
      "Language: English\n",
      "\n",
      "Character set encoding: UTF-8\n",
      "\n",
      "*** START OF THIS PROJECT GUTENBERG EBOOK A BOOK ***\n",
      "\n",
      "\n",
      "\n",
      "\n",
      "Produced by Richard Tonsing, Tim Lindell, and the Online\n",
      "Distributed Proofreading Team at http://www.pgdp.net (This\n",
      "book was produced from images made available by the\n",
      "HathiTrust Digital Library.)\n",
      "\n",
      "\n",
      "\n",
      "\n",
      "\n",
      "\n",
      "\n",
      "\n",
      "\n",
      "                                 A BOOK\n",
      "\n",
      "\n",
      "[Illustration]\n",
      "\n",
      "\n",
      "\n",
      "\n",
      "                                 A BOO\n"
     ]
    }
   ],
   "source": [
    "#Reading Book 2\n",
    "file = open(\"book2.txt\",encoding=\"utf8\")\n",
    "\n",
    "# variable S\n",
    "S = file.read()\n",
    "\n",
    "# variable S2\n",
    "S2=S\n",
    "\n",
    "# Printing the contents of the book stored in S\n",
    "print(S[:1000])"
   ]
  },
  {
   "cell_type": "code",
   "execution_count": 10,
   "metadata": {},
   "outputs": [
    {
     "name": "stdout",
     "output_type": "stream",
     "text": [
      "﻿The \n",
      "\n",
      "\n",
      "                                                  PAGE\n",
      "\n",
      "                  A NIGHT AMONG THE HORSES           1\n",
      "\n",
      "                  THREE FROM THE EARTH              15\n",
      "\n",
      "                  THE VALET                         31\n",
      "\n",
      "                  TO THE DOGS                       44\n",
      "\n",
      "                  BEYOND THE END                    59\n",
      "\n",
      "                  PASTORAL                          74\n",
      "\n",
      "                  OSCAR                             76\n",
      "\n",
      "                  ANTIQUE                          103\n",
      "\n",
      "                  KATRINA SILVERSTAFF              104\n",
      "\n",
      "                  HUSH BEFORE LOVE                 116\n",
      "\n",
      "                  THE ROBIN’S HOUSE                117\n",
      "\n",
      "                  PARADISE                         131\n",
      "\n",
      "                  NO-MAN’S-MARE                    132\n",
      "\n",
      "                  SIX SONGS OF KHALIDINE           145\n",
      "\n",
      "                  THE DOVE                         147\n",
      "\n",
      "                  MOTHER                           164\n",
      "\n",
      "                  SONG IN AUTUMN        \n"
     ]
    }
   ],
   "source": [
    "# Removing acknowledgement\n",
    "S = re.sub(\"Project[\\s\\S]*CONTENTS\",\"\",S)\n",
    "S = re.sub(\"TRANSCRIBER[\\s\\S]*\",\"\",S)\n",
    "print(S[:1000])"
   ]
  },
  {
   "cell_type": "code",
   "execution_count": 11,
   "metadata": {},
   "outputs": [
    {
     "name": "stdout",
     "output_type": "stream",
     "text": [
      "﻿The \n",
      "\n",
      "\n",
      "                                                  \n",
      "\n",
      "                  A               1\n",
      "\n",
      "                                   15\n",
      "\n",
      "                                            31\n",
      "\n",
      "                                           44\n",
      "\n",
      "                                        59\n",
      "\n",
      "                                            74\n",
      "\n",
      "                                               76\n",
      "\n",
      "                                            103\n",
      "\n",
      "                                 104\n",
      "\n",
      "                                     116\n",
      "\n",
      "                   ’S                 117\n",
      "\n",
      "                                           131\n",
      "\n",
      "                  -’S-                    132\n",
      "\n",
      "                                145\n",
      "\n",
      "                                            147\n",
      "\n",
      "                                             164\n",
      "\n",
      "                                       172\n",
      "\n",
      "                                          173\n",
      "\n",
      "                                            179\n",
      "\n",
      "                                       180\n",
      "\n",
      "                  I’D              194\n",
      "\n"
     ]
    }
   ],
   "source": [
    "# Removing Chapter Names\n",
    "S=re.sub(\"[A-Z]{2,}\",\"\",S)\n",
    "print(S[:1000])"
   ]
  },
  {
   "cell_type": "code",
   "execution_count": 12,
   "metadata": {},
   "outputs": [
    {
     "name": "stdout",
     "output_type": "stream",
     "text": [
      "﻿The \n",
      "\n",
      "\n",
      "                                                  \n",
      "\n",
      "                  A               \n",
      "\n",
      "                                   \n",
      "\n",
      "                                            \n",
      "\n",
      "                                           \n",
      "\n",
      "                                        \n",
      "\n",
      "                                            \n",
      "\n",
      "                                               \n",
      "\n",
      "                                            \n",
      "\n",
      "                                 \n",
      "\n",
      "                                     \n",
      "\n",
      "                   ’S                 \n",
      "\n",
      "                                           \n",
      "\n",
      "                  -’S-                    \n",
      "\n",
      "                                \n",
      "\n",
      "                                            \n",
      "\n",
      "                                             \n",
      "\n",
      "                                       \n",
      "\n",
      "                                          \n",
      "\n",
      "                                            \n",
      "\n",
      "                                       \n",
      "\n",
      "                  I’D              \n",
      "\n",
      "                                          \n",
      "\n",
      "          \n"
     ]
    }
   ],
   "source": [
    "# Removing Chapter Numbers\n",
    "S=re.sub(\"[0-9]+\",\"\",S)\n",
    "print(S[:1000])"
   ]
  },
  {
   "cell_type": "code",
   "execution_count": 13,
   "metadata": {},
   "outputs": [
    {
     "name": "stdout",
     "output_type": "stream",
     "text": [
      "rtrait Portrait Drawing Portrait Study Portrait A A Toward dusk, in the Summer of the year, a man dressed in a frock coat and top hat, and carrying a cane, crept through the underbrush bordering the corral of the Buckler farm. As he moved, small twigs snapped, fell and were silent. His knees were green from wounded shrubbery and grass, and his outspread hands tore unheeded plants. His wrists hurt him and he rested from time to time, always caring for his hat and knotted yellow cane, blowing through his moustache. Dew had been falling, covering the twilight leaves like myriad faces damp with the perspiration of the struggle for existence, and half a mile away, standing out against the darkness of the night, a grove of white birches shimmered like teeth in a skull. He heard the creaking of a gate, and the splashing of late rain into the depths of a dark cistern. His heart ached with the nearness of the earth, the faint murmur of it moving upon itself, like a sleeper who turns to throw an\n"
     ]
    }
   ],
   "source": [
    "# splitting the lines and joining them into one.\n",
    "S = \" \".join(S.split())\n",
    "S=S.replace(S[:62],'')\n",
    "S = S.replace('”', '')\n",
    "S = S.replace('“', '')\n",
    "S = S.replace(\"’s\", '')\n",
    "S = S.replace(\"’d\", '')\n",
    "S = S.replace(\"‘\", '')\n",
    "S2=S\n",
    "print(S[:1000])"
   ]
  },
  {
   "cell_type": "code",
   "execution_count": 14,
   "metadata": {
    "scrolled": true
   },
   "outputs": [
    {
     "name": "stdout",
     "output_type": "stream",
     "text": [
      "['rtrait', 'Portrait', 'Drawing', 'Portrait', 'Study', 'Portrait', 'A', 'A', 'Toward', 'dusk', ',', 'in', 'the', 'Summer', 'of', 'the', 'year', ',', 'a', 'man', 'dressed', 'in', 'a', 'frock', 'coat', 'and', 'top', 'hat', ',', 'and', 'carrying', 'a', 'cane', ',', 'crept', 'through', 'the', 'underbrush', 'bordering', 'the', 'corral', 'of', 'the', 'Buckler', 'farm', '.', 'As', 'he', 'moved', ',', 'small', 'twigs', 'snapped', ',', 'fell', 'and', 'were', 'silent', '.', 'His', 'knees', 'were', 'green', 'from', 'wounded', 'shrubbery', 'and', 'grass', ',', 'and', 'his', 'outspread', 'hands', 'tore', 'unheeded', 'plants', '.', 'His', 'wrists', 'hurt', 'him', 'and', 'he', 'rested', 'from', 'time', 'to', 'time', ',', 'always', 'caring', 'for', 'his', 'hat', 'and', 'knotted', 'yellow', 'cane', ',', 'blowing']\n"
     ]
    }
   ],
   "source": [
    "# Tokenisation\n",
    "from nltk.tokenize import word_tokenize\n",
    "\n",
    "S = word_tokenize(S)\n",
    "print(S[:100])"
   ]
  },
  {
   "cell_type": "code",
   "execution_count": 15,
   "metadata": {
    "scrolled": true
   },
   "outputs": [
    {
     "name": "stdout",
     "output_type": "stream",
     "text": [
      "['rtrait', 'Portrait', 'Drawing', 'Portrait', 'Study', 'Portrait', 'Toward', 'dusk', 'Summer', 'year', 'man', 'dressed', 'frock', 'coat', 'top', 'hat', 'carrying', 'cane', 'crept', 'underbrush', 'bordering', 'corral', 'Buckler', 'farm', 'As', 'moved', 'small', 'twig', 'snapped', 'fell', 'silent', 'His', 'knee', 'green', 'wounded', 'shrubbery', 'grass', 'outspread', 'hand', 'tore', 'unheeded', 'plant', 'His', 'wrist', 'hurt', 'rested', 'time', 'time', 'always', 'caring', 'hat', 'knotted', 'yellow', 'cane', 'blowing', 'moustache', 'Dew', 'falling', 'covering', 'twilight', 'leaf', 'like', 'myriad', 'face', 'damp', 'perspiration', 'struggle', 'existence', 'half', 'mile', 'away', 'standing', 'darkness', 'night', 'grove', 'white', 'birch', 'shimmered', 'like', 'teeth', 'skull', 'He', 'heard', 'creaking', 'gate', 'splashing', 'late', 'rain', 'depth', 'dark', 'cistern', 'His', 'heart', 'ached', 'nearness', 'earth', 'faint', 'murmur', 'moving', 'upon']\n"
     ]
    }
   ],
   "source": [
    "# Lemmatisation\n",
    "lemmatizer2 = WordNetLemmatizer()\n",
    "\n",
    "# forming a set of stopwords from english language\n",
    "stop_words2 = set(stopwords.words('english'))\n",
    "\n",
    "# creating an empty list\n",
    "lemmatized_S=[]\n",
    "\n",
    "# traversing all the words\n",
    "for word in S:\n",
    "    # if the word has a length greater than or equal to 2 and is not a stopword\n",
    "    if len(word) >= 2 and word not in stop_words2:\n",
    "        # then we append the word into the list lemmatized_T after performing lemmatization \n",
    "        # using the lemmatize() function\n",
    "        lemmatized_S.append(lemmatizer2.lemmatize(word))\n",
    "        \n",
    "# printing the list of lemmatized words\n",
    "print(lemmatized_S[:100])"
   ]
  },
  {
   "cell_type": "markdown",
   "metadata": {},
   "source": [
    "# PART 1"
   ]
  },
  {
   "cell_type": "markdown",
   "metadata": {},
   "source": [
    "## Finding nouns, verbs, their categories and their frequecies"
   ]
  },
  {
   "cell_type": "markdown",
   "metadata": {},
   "source": [
    "<b>Book 1</b>"
   ]
  },
  {
   "cell_type": "code",
   "execution_count": 16,
   "metadata": {},
   "outputs": [],
   "source": [
    "# Seprating nouns and verbs from lemmatized words\n",
    "from nltk.corpus import wordnet as wn\n",
    "nouns = []\n",
    "verbs = []\n",
    "for word in lemmatized_T:\n",
    "    for synset in wn.synsets(word):\n",
    "        if \"noun\" in synset.lexname() and word not in nouns:\n",
    "            nouns.append(word)\n",
    "            \n",
    "        elif \"verb\" in synset.lexname() and word not in verbs:\n",
    "            verbs.append(word)    "
   ]
  },
  {
   "cell_type": "code",
   "execution_count": 17,
   "metadata": {},
   "outputs": [
    {
     "name": "stdout",
     "output_type": "stream",
     "text": [
      "['board', 'liner', 'eleven', 'day', 'half', 'Liverpool', 'sensation', 'appearance', 'Necks', 'toe', 'steamer', 'speed', 'line', 'somebody', 'yacht', 'pilot', 'fact', 'personage', 'note', 'countenance', 'expression', 'Captain', 'taking', 'salver', 'glass', 'Bourbon', 'whisky', 'content', 'person', 'emotion', 'First', 'Officer', 'upper', 'bridge', 'skipper', 'telegraph', 'leviathan', 'hulk', 'forge', 'young', 'man', 'bowler', 'tweed', 'necktie', 'Second', 'emissary', 'Press', 'Mr.', 'Cyrus', 'York', 'know', 'sir', 'step', 'way', 'brandy', 'cocktail', 'order', 'habit', 'Whisky', 'straight', 'Now', 'information', 'gentleman', 'settling', 'morocco', 'cushion', 'offer', 'green', 'Havana', 'kind', 'smooth', 'passage', 'time', 'year', 'Smooth', 'reply', 'Pressman', 'remark', 'Well', 'yes', 'take', 'No', 'fog', 'elastic', 'band', 'notebook', 'Fogs', 'chance', 'pursued', 'short', 'drink', 'steward', 'throat', 'fall', 'berg', 'Bank', 'smell', 'one', 'decision', 'derelict']\n"
     ]
    }
   ],
   "source": [
    "print(nouns[:100])"
   ]
  },
  {
   "cell_type": "code",
   "execution_count": 18,
   "metadata": {},
   "outputs": [
    {
     "name": "stdout",
     "output_type": "stream",
     "text": [
      "['board', 'created', 'prevailed', 'Necks', 'craned', 'toe', 'trodden', 'steamer', 'slackened', 'speed', 'line', 'thrown', 'caught', 'yacht', 'pilot', 'note', 'divested', 'bearded', 'countenance', 'saluted', 'Captain', 'taking', 'proffered', 'glass', 'containing', 'concealed', 'content', 'went', 'Officer', 'bridge', 'relieved', 'skipper', 'plunged', 'telegraph', 'clicked', 'hulk', 'quivered', 'began', 'forge', 'man', 'striped', 'introduced', 'Second', 'Press', 'Pleased', 'know', 'said', 'step', 'order', 'habit', 'hoisting', 'afford', 'presume', 'observed', 'settling', 'cushion', 'accepting', 'offer', 'green', 'smooth', 'time', 'Smooth', 'reversed', 'reply', 'remark', 'Well', 'considered', 'take', 'fog', 'interrogated', 'clicking', 'band', 'projected', 'Fogs', 'chance', 'pursued', 'short', 'drink', 'throwing', 'fall', 'Bank', 'smell', 'replied', 'Ran', 'persisted', 'concealing', 'worn', 'sole', 'wearied', 'boot', 'searching', 'glare', 'light', 'tucking', 'rubber', 'baby', 'lost', 'echoed', 'shook', 'head']\n"
     ]
    }
   ],
   "source": [
    "print(verbs[:100])"
   ]
  },
  {
   "cell_type": "markdown",
   "metadata": {},
   "source": [
    "<b>Creating a dictionary of words and category of nouns or verbs they belong to.</b>"
   ]
  },
  {
   "cell_type": "code",
   "execution_count": 19,
   "metadata": {},
   "outputs": [],
   "source": [
    "# Nouns\n",
    "noun_dic = {}\n",
    "lt = []\n",
    "for noun in nouns:\n",
    "    l = []\n",
    "    for synset in wn.synsets(noun):\n",
    "        if \"noun\" in synset.lexname():\n",
    "            if synset.lexname()[5:] not in l:\n",
    "                l.append(synset.lexname()[5:])\n",
    "                \n",
    "    noun_dic[noun] = l"
   ]
  },
  {
   "cell_type": "code",
   "execution_count": 20,
   "metadata": {
    "scrolled": true
   },
   "outputs": [
    {
     "name": "stdout",
     "output_type": "stream",
     "text": [
      "board : ['group', 'substance', 'artifact', 'food']\n",
      "liner : ['act', 'artifact']\n",
      "eleven : ['quantity', 'group']\n",
      "day : ['time', 'state', 'person']\n",
      "half : ['quantity', 'time']\n",
      "Liverpool : ['location']\n",
      "sensation : ['cognition', 'person', 'feeling', 'state']\n",
      "appearance : ['attribute', 'event', 'act', 'cognition']\n",
      "Necks : ['body', 'object', 'food', 'artifact']\n",
      "toe : ['body', 'artifact']\n",
      "steamer : ['food', 'artifact', 'animal']\n",
      "speed : ['time', 'attribute', 'act', 'relation', 'artifact']\n",
      "line : ['group', 'communication', 'shape', 'phenomenon', 'location', 'cognition', 'artifact', 'act', 'quantity', 'possession']\n",
      "somebody : ['Tops']\n",
      "yacht : ['artifact']\n",
      "pilot : ['person', 'communication', 'cognition', 'artifact']\n",
      "fact : ['cognition', 'communication', 'state']\n",
      "personage : ['person']\n",
      "note : ['communication', 'attribute', 'possession', 'state']\n",
      "countenance : ['attribute', 'communication', 'body']\n",
      "expression : ['attribute', 'communication', 'process', 'act']\n",
      "Captain : ['person']\n",
      "taking : ['act']\n",
      "salver : ['artifact']\n",
      "glass : ['substance', 'artifact', 'quantity']\n",
      "Bourbon : ['person', 'food', 'group']\n",
      "whisky : ['food']\n",
      "content : ['group', 'communication', 'relation', 'quantity', 'cognition', 'state', 'artifact']\n",
      "person : ['Tops', 'body', 'communication']\n",
      "emotion : ['feeling']\n",
      "First : ['relation', 'quantity', 'time', 'act', 'communication', 'artifact']\n",
      "Officer : ['person']\n",
      "upper : ['artifact']\n",
      "bridge : ['artifact', 'relation', 'body', 'act']\n",
      "skipper : ['person']\n",
      "telegraph : ['artifact']\n",
      "leviathan : ['person']\n",
      "hulk : ['person', 'artifact']\n",
      "forge : ['artifact']\n",
      "young : ['animal', 'person', 'group']\n",
      "man : ['person', 'animal', 'location', 'artifact']\n",
      "bowler : ['person', 'artifact']\n",
      "tweed : ['artifact']\n",
      "necktie : ['artifact']\n",
      "Second : ['time', 'act', 'relation', 'quantity', 'person', 'communication', 'artifact']\n",
      "emissary : ['person']\n",
      "Press : ['state', 'communication', 'artifact', 'group', 'act']\n",
      "Mr. : ['communication']\n",
      "Cyrus : ['person']\n",
      "York : ['group']\n"
     ]
    }
   ],
   "source": [
    "j = 0\n",
    "for i in noun_dic:\n",
    "    print(i,\":\", noun_dic[i])\n",
    "    j +=1 \n",
    "    if j == 50:\n",
    "        break"
   ]
  },
  {
   "cell_type": "code",
   "execution_count": 21,
   "metadata": {
    "scrolled": true
   },
   "outputs": [
    {
     "name": "stdout",
     "output_type": "stream",
     "text": [
      "board : ['motion', 'stative', 'consumption']\n",
      "created : ['creation', 'social']\n",
      "prevailed : ['stative', 'competition', 'communication']\n",
      "Necks : ['contact']\n",
      "craned : ['body']\n",
      "toe : ['motion', 'contact']\n",
      "trodden : ['motion', 'contact', 'possession']\n",
      "steamer : ['motion']\n",
      "slackened : ['change']\n",
      "speed : ['motion', 'change']\n",
      "line : ['stative', 'contact', 'change']\n",
      "thrown : ['contact', 'motion', 'communication', 'creation', 'emotion', 'cognition']\n",
      "caught : ['cognition', 'perception', 'contact', 'motion', 'possession', 'competition', 'change', 'social', 'body', 'weather', 'emotion', 'creation']\n",
      "yacht : ['motion']\n",
      "pilot : ['motion']\n",
      "note : ['communication', 'perception']\n",
      "divested : ['possession', 'social', 'change']\n",
      "bearded : ['stative']\n",
      "countenance : ['communication']\n",
      "saluted : ['consumption', 'communication', 'perception']\n",
      "Captain : ['social']\n",
      "taking : ['social', 'possession', 'motion', 'contact', 'change', 'cognition', 'stative', 'perception', 'communication', 'consumption', 'competition', 'body']\n",
      "proffered : ['possession']\n",
      "glass : ['possession', 'perception', 'contact', 'change']\n",
      "containing : ['stative', 'social', 'competition']\n",
      "concealed : ['perception']\n",
      "content : ['consumption', 'emotion']\n",
      "went : ['motion', 'social', 'change', 'stative', 'perception', 'contact', 'consumption', 'competition', 'cognition']\n",
      "Officer : ['communication']\n",
      "bridge : ['stative', 'contact', 'motion']\n",
      "relieved : ['body', 'social', 'emotion', 'communication', 'possession', 'change']\n",
      "skipper : ['social']\n",
      "plunged : ['contact', 'motion', 'change', 'cognition']\n",
      "telegraph : ['communication']\n",
      "clicked : ['motion', 'perception', 'contact', 'communication', 'cognition']\n",
      "hulk : ['stative']\n",
      "quivered : ['motion']\n",
      "began : ['change', 'stative', 'communication', 'social']\n",
      "forge : ['creation', 'motion']\n",
      "man : ['social', 'competition']\n",
      "striped : ['contact', 'possession', 'body', 'change']\n",
      "introduced : ['communication', 'creation', 'change', 'motion', 'contact', 'cognition']\n",
      "Second : ['social']\n",
      "Press : ['contact', 'communication', 'stative', 'motion', 'creation', 'social', 'competition']\n",
      "Pleased : ['emotion']\n",
      "know : ['cognition', 'contact']\n",
      "said : ['communication', 'stative']\n",
      "step : ['motion', 'social', 'possession', 'contact', 'change']\n",
      "order : ['communication', 'social', 'change', 'cognition']\n",
      "habit : ['body']\n"
     ]
    }
   ],
   "source": [
    "# Verbs\n",
    "verb_dic = {}\n",
    "for verb in verbs:\n",
    "    l = []\n",
    "    for synset in wn.synsets(verb):\n",
    "        if \"verb\" in synset.lexname():\n",
    "            if synset.lexname()[5:] not in l:\n",
    "                l.append(synset.lexname()[5:])\n",
    "    verb_dic[verb] = l\n",
    "\n",
    "j = 0\n",
    "for i in verb_dic:\n",
    "    print(i,\":\", verb_dic[i])\n",
    "    j +=1 \n",
    "    if j == 50:\n",
    "        break"
   ]
  },
  {
   "cell_type": "markdown",
   "metadata": {},
   "source": [
    "<b>Creating a dictionary of frequency of category of nouns and verbs.</b>"
   ]
  },
  {
   "cell_type": "code",
   "execution_count": 22,
   "metadata": {
    "scrolled": true
   },
   "outputs": [
    {
     "name": "stdout",
     "output_type": "stream",
     "text": [
      "{'group': 533, 'substance': 278, 'artifact': 1635, 'food': 333, 'act': 1440, 'quantity': 320, 'time': 252, 'state': 647, 'person': 1278, 'location': 400, 'cognition': 700, 'feeling': 214, 'attribute': 794, 'event': 458, 'body': 259, 'object': 292, 'animal': 287, 'relation': 118, 'communication': 1140, 'shape': 150, 'phenomenon': 143, 'possession': 237, 'Tops': 58, 'process': 101, 'motive': 17, 'plant': 215}\n"
     ]
    }
   ],
   "source": [
    "# Nouns\n",
    "noun_cate_dic = {}\n",
    "\n",
    "for i in noun_dic:\n",
    "    for j in noun_dic[i]:\n",
    "        if j not in noun_cate_dic:\n",
    "            noun_cate_dic[j] = 1\n",
    "        else:\n",
    "            noun_cate_dic[j] +=1\n",
    "\n",
    "print(noun_cate_dic)"
   ]
  },
  {
   "cell_type": "code",
   "execution_count": 23,
   "metadata": {},
   "outputs": [
    {
     "name": "stdout",
     "output_type": "stream",
     "text": [
      "{'motion': 1219, 'stative': 980, 'consumption': 345, 'creation': 669, 'social': 1200, 'competition': 480, 'communication': 1512, 'contact': 1623, 'body': 703, 'possession': 851, 'change': 1380, 'emotion': 565, 'cognition': 845, 'perception': 624, 'weather': 107}\n"
     ]
    }
   ],
   "source": [
    "# Verbs\n",
    "verb_cate_dic = {}\n",
    "\n",
    "for i in verb_dic:\n",
    "    for j in verb_dic[i]:\n",
    "        if j not in verb_cate_dic:\n",
    "            verb_cate_dic[j] = 1\n",
    "        else:\n",
    "            verb_cate_dic[j] +=1\n",
    "\n",
    "print(verb_cate_dic)"
   ]
  },
  {
   "cell_type": "markdown",
   "metadata": {},
   "source": [
    "<b>Book 2</b>"
   ]
  },
  {
   "cell_type": "code",
   "execution_count": 24,
   "metadata": {},
   "outputs": [],
   "source": [
    "# Seprating nouns and verbs from lemmatized words\n",
    "nouns2 = []\n",
    "verbs2 = []\n",
    "for word in lemmatized_S:\n",
    "    for synset in wn.synsets(word):\n",
    "        if \"noun\" in synset.lexname() and word not in nouns2:\n",
    "            nouns2.append(word)\n",
    "            \n",
    "        elif \"verb\" in synset.lexname() and word not in verbs2:\n",
    "            verbs2.append(word)    "
   ]
  },
  {
   "cell_type": "code",
   "execution_count": 25,
   "metadata": {},
   "outputs": [
    {
     "name": "stdout",
     "output_type": "stream",
     "text": [
      "['Portrait', 'Drawing', 'Study', 'dusk', 'Summer', 'year', 'man', 'frock', 'coat', 'top', 'hat', 'cane', 'underbrush', 'corral', 'Buckler', 'farm', 'As', 'small', 'twig', 'fell', 'knee', 'green', 'wounded', 'shrubbery', 'grass', 'hand', 'tore', 'plant', 'wrist', 'hurt', 'time', 'caring', 'yellow', 'blowing', 'moustache', 'Dew', 'covering', 'twilight', 'leaf', 'like', 'myriad', 'face', 'damp', 'perspiration', 'struggle', 'existence', 'half', 'mile', 'standing', 'darkness', 'night', 'grove', 'white', 'birch', 'teeth', 'skull', 'He', 'creaking', 'gate', 'splashing', 'rain', 'depth', 'dark', 'cistern', 'heart', 'nearness', 'earth', 'faint', 'murmur', 'sleeper', 'turn', 'throw', 'arm', 'beloved', 'frog', 'skunk', 'cabbage', 'John', 'thrust', 'deep', 'bosom', 'It', 'heavy', 'prison', 'sin', 'one', 'may', 'punishment', 'feeling', 'way', 'high', 'plank', 'fence', 'sensing', 'finger', 'lay', 'head', 'ground', 'sleep', 'eye']\n"
     ]
    }
   ],
   "source": [
    "print(nouns2[:100])"
   ]
  },
  {
   "cell_type": "code",
   "execution_count": 26,
   "metadata": {},
   "outputs": [
    {
     "name": "stdout",
     "output_type": "stream",
     "text": [
      "['Drawing', 'Study', 'dusk', 'Summer', 'man', 'dressed', 'frock', 'coat', 'top', 'hat', 'carrying', 'cane', 'crept', 'bordering', 'corral', 'farm', 'moved', 'twig', 'snapped', 'fell', 'green', 'wounded', 'grass', 'hand', 'tore', 'plant', 'hurt', 'rested', 'time', 'caring', 'knotted', 'yellow', 'blowing', 'falling', 'covering', 'leaf', 'like', 'face', 'damp', 'struggle', 'standing', 'white', 'birch', 'shimmered', 'heard', 'creaking', 'gate', 'splashing', 'rain', 'ached', 'earth', 'faint', 'murmur', 'moving', 'turn', 'throw', 'arm', 'frog', 'began', 'moaning', 'skunk', 'cabbage', 'thrust', 'bosom', 'seemed', 'wondered', 'sin', 'suffer', 'went', 'feeling', 'reached', 'plank', 'fence', 'sensing', 'finger', 'lay', 'resting', 'head', 'ground', 'tired', 'wanted', 'sleep', 'searched', 'straightened', 'turned', 'eye', 'star', 'thought', 'live', 'shake', 'dog', 'barking', 'dim', 'light', 'kept', 'winking', 'tree', 'swung', 'square', 'came']\n"
     ]
    }
   ],
   "source": [
    "print(verbs2[:100])"
   ]
  },
  {
   "cell_type": "code",
   "execution_count": 27,
   "metadata": {},
   "outputs": [],
   "source": [
    "# Creating a dictionary of words and category of nouns they belong to.\n",
    "noun_dic2 = {}\n",
    "for noun in nouns2:\n",
    "    d = []\n",
    "    for synset in wn.synsets(noun):\n",
    "        if \"noun\" in synset.lexname():\n",
    "            if synset.lexname()[5:] not in d:\n",
    "                d.append(synset.lexname()[5:])                \n",
    "    noun_dic2[noun] = d"
   ]
  },
  {
   "cell_type": "code",
   "execution_count": 28,
   "metadata": {
    "scrolled": true
   },
   "outputs": [
    {
     "name": "stdout",
     "output_type": "stream",
     "text": [
      "Portrait : ['communication', 'artifact']\n",
      "Drawing : ['communication', 'artifact', 'act']\n",
      "Study : ['act', 'cognition', 'communication', 'artifact', 'person']\n",
      "dusk : ['time']\n",
      "Summer : ['time']\n",
      "year : ['time', 'group']\n",
      "man : ['person', 'animal', 'location', 'artifact']\n",
      "frock : ['artifact']\n",
      "coat : ['artifact', 'animal']\n",
      "top : ['location', 'time', 'state', 'attribute', 'artifact']\n",
      "hat : ['artifact', 'act']\n",
      "cane : ['artifact', 'plant']\n",
      "underbrush : ['group']\n",
      "corral : ['artifact']\n",
      "Buckler : ['artifact']\n",
      "farm : ['artifact']\n",
      "As : ['substance', 'location', 'quantity', 'communication', 'body']\n",
      "small : ['body', 'attribute']\n",
      "twig : ['plant']\n",
      "fell : ['substance', 'artifact', 'act']\n",
      "knee : ['body', 'animal', 'artifact']\n",
      "green : ['attribute', 'location', 'person', 'object', 'food', 'artifact']\n",
      "wounded : ['group']\n",
      "shrubbery : ['location', 'group']\n",
      "grass : ['plant', 'person', 'food', 'artifact']\n",
      "hand : ['body', 'person', 'communication', 'cognition', 'location', 'group', 'artifact', 'quantity', 'animal', 'act']\n",
      "tore : ['artifact']\n",
      "plant : ['artifact', 'Tops', 'person', 'cognition']\n",
      "wrist : ['body']\n",
      "hurt : ['state', 'feeling', 'event', 'act']\n",
      "time : ['event', 'time', 'Tops', 'attribute']\n",
      "caring : ['feeling']\n",
      "yellow : ['attribute']\n",
      "blowing : ['process']\n",
      "moustache : ['body']\n",
      "Dew : ['substance']\n",
      "covering : ['object', 'artifact', 'act']\n",
      "twilight : ['time', 'phenomenon', 'state']\n",
      "leaf : ['plant', 'communication', 'artifact']\n",
      "like : ['cognition']\n",
      "myriad : ['quantity']\n",
      "face : ['body', 'attribute', 'artifact', 'person', 'location', 'communication']\n",
      "damp : ['state']\n",
      "perspiration : ['body', 'process']\n",
      "struggle : ['act']\n",
      "existence : ['state', 'object']\n",
      "half : ['quantity', 'time']\n",
      "mile : ['quantity', 'event']\n",
      "standing : ['state', 'communication', 'act']\n",
      "darkness : ['state', 'location', 'cognition', 'attribute']\n"
     ]
    }
   ],
   "source": [
    "j = 0\n",
    "for i in noun_dic2:\n",
    "    print(i,\":\", noun_dic2[i])\n",
    "    j +=1 \n",
    "    if j == 50:\n",
    "        break"
   ]
  },
  {
   "cell_type": "code",
   "execution_count": 29,
   "metadata": {},
   "outputs": [
    {
     "name": "stdout",
     "output_type": "stream",
     "text": [
      "Drawing : ['contact', 'possession', 'cognition', 'motion', 'creation', 'communication', 'emotion', 'consumption', 'competition', 'change', 'stative', 'social', 'body']\n",
      "Study : ['cognition', 'perception']\n",
      "dusk : ['change']\n",
      "Summer : ['stative']\n",
      "man : ['social', 'competition']\n",
      "dressed : ['body', 'contact', 'change', 'motion', 'creation']\n",
      "frock : ['body']\n",
      "coat : ['contact', 'body']\n",
      "top : ['stative', 'motion', 'possession', 'contact', 'change']\n",
      "hat : ['body', 'possession']\n",
      "carrying : ['contact', 'stative', 'motion', 'communication', 'social', 'change', 'competition', 'cognition', 'possession', 'creation', 'consumption', 'body']\n",
      "cane : ['contact']\n",
      "crept : ['motion']\n",
      "bordering : ['contact', 'stative', 'possession']\n",
      "corral : ['contact']\n",
      "farm : ['social', 'possession', 'creation']\n",
      "moved : ['motion', 'social', 'body', 'change', 'emotion', 'creation', 'possession', 'competition', 'communication']\n",
      "twig : ['change', 'cognition']\n",
      "snapped : ['communication', 'contact', 'change', 'motion', 'perception', 'emotion']\n",
      "fell : ['contact', 'motion', 'change', 'stative', 'weather', 'social', 'possession']\n",
      "green : ['change']\n",
      "wounded : ['body', 'emotion']\n",
      "grass : ['competition', 'contact', 'consumption', 'communication']\n",
      "hand : ['possession', 'motion']\n",
      "tore : ['contact', 'motion', 'body']\n",
      "plant : ['contact', 'creation', 'possession', 'cognition']\n",
      "hurt : ['perception', 'body', 'emotion', 'change']\n",
      "rested : ['contact', 'communication', 'stative', 'body', 'change', 'social']\n",
      "time : ['change', 'cognition']\n",
      "caring : ['emotion', 'social']\n",
      "knotted : ['creation', 'contact']\n",
      "yellow : ['change']\n",
      "blowing : ['body', 'weather', 'motion', 'perception', 'change', 'social', 'possession', 'contact', 'communication']\n",
      "falling : ['motion', 'change', 'stative', 'weather', 'social', 'possession', 'contact']\n",
      "covering : ['contact', 'stative', 'communication', 'motion', 'competition', 'social', 'perception', 'possession', 'body']\n",
      "leaf : ['perception', 'motion', 'body']\n",
      "like : ['emotion', 'cognition']\n",
      "face : ['communication', 'competition', 'stative', 'motion', 'perception', 'contact']\n",
      "damp : ['perception', 'change']\n",
      "struggle : ['social', 'contact', 'motion', 'competition']\n",
      "standing : ['contact', 'stative', 'cognition', 'competition']\n",
      "white : ['change']\n",
      "birch : ['contact']\n",
      "shimmered : ['weather', 'stative']\n",
      "heard : ['perception', 'cognition', 'social']\n",
      "creaking : ['perception']\n",
      "gate : ['possession', 'contact', 'change']\n",
      "splashing : ['contact', 'motion', 'perception']\n",
      "rain : ['weather']\n",
      "ached : ['perception', 'emotion']\n"
     ]
    }
   ],
   "source": [
    "# Creating a dictionary of words and category of verbs they belong to.\n",
    "verb_dic2 = {}\n",
    "for verb in verbs2:\n",
    "    d = []\n",
    "    for synset in wn.synsets(verb):\n",
    "        if \"verb\" in synset.lexname():\n",
    "            if synset.lexname()[5:] not in d:\n",
    "                d.append(synset.lexname()[5:])\n",
    "    verb_dic2[verb] = d\n",
    "\n",
    "j = 0\n",
    "for i in verb_dic2:\n",
    "    print(i,\":\", verb_dic2[i])\n",
    "    j +=1 \n",
    "    if j == 50:\n",
    "        break"
   ]
  },
  {
   "cell_type": "code",
   "execution_count": 30,
   "metadata": {},
   "outputs": [
    {
     "name": "stdout",
     "output_type": "stream",
     "text": [
      "{'communication': 485, 'artifact': 752, 'act': 728, 'cognition': 369, 'person': 501, 'time': 152, 'group': 241, 'animal': 159, 'location': 209, 'state': 354, 'attribute': 424, 'plant': 104, 'substance': 125, 'quantity': 165, 'body': 169, 'object': 172, 'food': 145, 'Tops': 37, 'feeling': 140, 'event': 239, 'process': 58, 'phenomenon': 77, 'possession': 98, 'shape': 75, 'relation': 40, 'motive': 11}\n"
     ]
    }
   ],
   "source": [
    "# Creating a dictionary of frequency of category of nouns.\n",
    "noun_cate_dic2 = {}\n",
    "\n",
    "for i in noun_dic2:\n",
    "    for j in noun_dic2[i]:\n",
    "        if j not in noun_cate_dic2:\n",
    "            noun_cate_dic2[j] = 1\n",
    "        else:\n",
    "            noun_cate_dic2[j] +=1\n",
    "\n",
    "print(noun_cate_dic2)"
   ]
  },
  {
   "cell_type": "code",
   "execution_count": 31,
   "metadata": {},
   "outputs": [
    {
     "name": "stdout",
     "output_type": "stream",
     "text": [
      "{'contact': 866, 'possession': 423, 'cognition': 501, 'motion': 674, 'creation': 352, 'communication': 729, 'emotion': 304, 'consumption': 206, 'competition': 284, 'change': 747, 'stative': 583, 'social': 630, 'body': 412, 'perception': 372, 'weather': 61}\n"
     ]
    }
   ],
   "source": [
    "# Creating a dictionary of frequency of category of verbs.\n",
    "verb_cate_dic2 = {}\n",
    "\n",
    "for i in verb_dic2:\n",
    "    for j in verb_dic2[i]:\n",
    "        if j not in verb_cate_dic2:\n",
    "            verb_cate_dic2[j] = 1\n",
    "        else:\n",
    "            verb_cate_dic2[j] +=1\n",
    "\n",
    "print(verb_cate_dic2)"
   ]
  },
  {
   "cell_type": "markdown",
   "metadata": {},
   "source": [
    "## Ploting graphs"
   ]
  },
  {
   "cell_type": "code",
   "execution_count": 32,
   "metadata": {},
   "outputs": [
    {
     "data": {
      "image/png": "[encoded data removed]",
      "text/plain": [
       "<Figure size 432x288 with 1 Axes>"
      ]
     },
     "metadata": {
      "needs_background": "light"
     },
     "output_type": "display_data"
    }
   ],
   "source": [
    "# Bar graph of Noun Category and Frequency in Book1\n",
    "plt.figure()\n",
    "plt.bar(noun_cate_dic.keys(),noun_cate_dic.values())\n",
    "plt.title('Noun Category Vs Frequency(for Book 1)')\n",
    "plt.xlabel('Noun Category')\n",
    "plt.ylabel('Frequency')\n",
    "plt.xticks(rotation=90)\n",
    "plt.show()"
   ]
  },
  {
   "cell_type": "markdown",
   "metadata": {},
   "source": [
    "From Graph it is clearly visible that <b>artifact</b> category occures the most in nouns."
   ]
  },
  {
   "cell_type": "code",
   "execution_count": 33,
   "metadata": {},
   "outputs": [
    {
     "data": {
      "image/png": "[encoded data removed]",
      "text/plain": [
       "<Figure size 432x288 with 1 Axes>"
      ]
     },
     "metadata": {
      "needs_background": "light"
     },
     "output_type": "display_data"
    }
   ],
   "source": [
    "# Bar graph of Verb Category and Frequency in Book1\n",
    "plt.figure()\n",
    "plt.bar(verb_cate_dic.keys(),verb_cate_dic.values())\n",
    "plt.title('Verb Category Vs Frequency(for Book 1)')\n",
    "plt.xlabel('Verb Category')\n",
    "plt.ylabel('Frequency')\n",
    "plt.xticks(rotation=90)\n",
    "plt.show()"
   ]
  },
  {
   "cell_type": "markdown",
   "metadata": {},
   "source": [
    "<b>*We are using bar graph instead of histogram as the x-axis of the data has discrete values.*</b>"
   ]
  },
  {
   "cell_type": "code",
   "execution_count": 34,
   "metadata": {},
   "outputs": [
    {
     "data": {
      "image/png": "[encoded data removed]",
      "text/plain": [
       "<Figure size 432x288 with 1 Axes>"
      ]
     },
     "metadata": {
      "needs_background": "light"
     },
     "output_type": "display_data"
    }
   ],
   "source": [
    "# Bar graph of Noun Category and Frequency in Book2\n",
    "plt.figure()\n",
    "plt.bar(noun_cate_dic2.keys(),noun_cate_dic2.values())\n",
    "plt.title('Noun Category Vs Frequency(for Book 2)')\n",
    "plt.xlabel('Noun Category')\n",
    "plt.ylabel('Frequency')\n",
    "plt.xticks(rotation=90)\n",
    "plt.show()"
   ]
  },
  {
   "cell_type": "markdown",
   "metadata": {},
   "source": [
    "From Graph it is clearly visible that <b>artifact</b> category occures the most in nouns."
   ]
  },
  {
   "cell_type": "code",
   "execution_count": 35,
   "metadata": {},
   "outputs": [
    {
     "data": {
      "image/png": "[encoded data removed]",
      "text/plain": [
       "<Figure size 432x288 with 1 Axes>"
      ]
     },
     "metadata": {
      "needs_background": "light"
     },
     "output_type": "display_data"
    }
   ],
   "source": [
    "# Bar graph of Verb Category and Frequency in Book2\n",
    "plt.figure()\n",
    "plt.bar(verb_cate_dic2.keys(),verb_cate_dic2.values())\n",
    "plt.title('Verb Category Vs Frequency(for Book 2)')\n",
    "plt.xlabel('Verb Category')\n",
    "plt.ylabel('Frequency')\n",
    "plt.xticks(rotation=90)\n",
    "plt.show()"
   ]
  },
  {
   "cell_type": "markdown",
   "metadata": {},
   "source": [
    "From Graph it is clearly visible that <b>contact</b> category occures the most in verbs."
   ]
  },
  {
   "cell_type": "markdown",
   "metadata": {},
   "source": [
    "# PART 2"
   ]
  },
  {
   "cell_type": "markdown",
   "metadata": {},
   "source": [
    "## Entity recongition and Classifiaction"
   ]
  },
  {
   "cell_type": "markdown",
   "metadata": {},
   "source": [
    "<b>First we import required libraries</b>"
   ]
  },
  {
   "cell_type": "code",
   "execution_count": 36,
   "metadata": {
    "scrolled": true
   },
   "outputs": [],
   "source": [
    "from nltk.tokenize import word_tokenize\n",
    "from nltk.tag import pos_tag\n",
    "from nltk import ne_chunk\n",
    "\n",
    "import spacy\n",
    "from spacy import displacy\n",
    "from collections import Counter\n",
    "import en_core_web_sm\n",
    "nlp = en_core_web_sm.load()\n",
    "\n",
    "from seqeval.metrics import accuracy_score\n",
    "from seqeval.metrics import classification_report\n",
    "from seqeval.metrics import f1_score"
   ]
  },
  {
   "cell_type": "markdown",
   "metadata": {},
   "source": [
    "#### Book 1"
   ]
  },
  {
   "cell_type": "markdown",
   "metadata": {},
   "source": [
    "#### We use nltk for pos tagging and tokenizing the text which is required later for chunking and IOB tagging"
   ]
  },
  {
   "cell_type": "code",
   "execution_count": 37,
   "metadata": {
    "scrolled": true
   },
   "outputs": [
    {
     "name": "stdout",
     "output_type": "stream",
     "text": [
      "[('On', 'IN'), ('board', 'NN'), ('the', 'DT'), ('Rampatina', 'NNP'), ('liner', 'NN'), (',', ','), ('eleven', 'JJ'), ('days', 'NNS'), ('and', 'CC'), ('a', 'DT'), ('half', 'NN'), ('out', 'IN'), ('from', 'IN'), ('Liverpool', 'NNP'), (',', ','), ('the', 'DT'), ('usual', 'JJ'), ('terrific', 'NN'), ('sensation', 'NN'), ('created', 'VBN'), ('by', 'IN'), ('the', 'DT'), ('appearance', 'NN'), ('of', 'IN'), ('the', 'DT'), ('pilot-yacht', 'NN'), ('prevailed', 'VBD'), ('.', '.'), ('Necks', 'NNS'), ('were', 'VBD'), ('craned', 'VBN'), ('and', 'CC'), ('toes', 'NNS'), ('were', 'VBD'), ('trodden', 'JJ'), ('on', 'IN'), ('as', 'IN'), ('the', 'DT'), ('steamer', 'NN'), ('slackened', 'VBD'), ('speed', 'NN'), (',', ','), ('and', 'CC'), ('a', 'DT'), ('line', 'NN'), ('dexterously', 'RB'), ('thrown', 'VBN'), ('by', 'IN'), ('a', 'DT'), ('blue-jerseyed', 'JJ'), ('deck-hand', 'NN'), ('was', 'VBD'), ('caught', 'VBN'), ('by', 'IN'), ('somebody', 'NN'), ('aboard', 'IN'), ('the', 'DT'), ('yacht', 'NN'), ('.', '.'), ('The', 'DT'), ('pilot', 'NN'), (',', ','), ('not', 'RB'), ('insensible', 'JJ'), ('to', 'TO'), ('the', 'DT'), ('fact', 'NN'), ('of', 'IN'), ('his', 'PRP$'), ('being', 'VBG'), ('a', 'DT'), ('personage', 'NN'), ('of', 'IN'), ('note', 'NN'), (',', ','), ('carefully', 'RB'), ('divested', 'VBD'), ('his', 'PRP$'), ('bearded', 'JJ'), ('countenance', 'NN'), ('of', 'IN'), ('all', 'DT'), ('expression', 'NN'), ('as', 'IN'), ('he', 'PRP'), ('saluted', 'VBD'), ('the', 'DT'), ('Captain', 'NNP'), (',', ','), ('and', 'CC'), ('taking', 'VBG'), ('from', 'IN'), ('the', 'DT'), ('deck-steward', 'JJ'), ('obsequiously', 'RB'), ('proffered', 'VBN'), ('salver', 'RP'), ('a', 'DT'), ('glass', 'NN'), ('containing', 'VBG')]\n"
     ]
    }
   ],
   "source": [
    "tagged_T2 = nltk.word_tokenize(T2)\n",
    "tagged_T2 = nltk.pos_tag(tagged_T2)\n",
    "print(tagged_T2[:100])"
   ]
  },
  {
   "cell_type": "markdown",
   "metadata": {},
   "source": [
    "#### Using nltk function *ne_chunk* for chunking the text and named entity recognition"
   ]
  },
  {
   "cell_type": "code",
   "execution_count": 38,
   "metadata": {
    "scrolled": true
   },
   "outputs": [
    {
     "name": "stdout",
     "output_type": "stream",
     "text": [
      "[('On', 'IN'), ('board', 'NN'), ('the', 'DT'), Tree('GPE', [('Rampatina', 'NNP')]), ('liner', 'NN'), (',', ','), ('eleven', 'JJ'), ('days', 'NNS'), ('and', 'CC'), ('a', 'DT'), ('half', 'NN'), ('out', 'IN'), ('from', 'IN'), Tree('GPE', [('Liverpool', 'NNP')]), (',', ','), ('the', 'DT'), ('usual', 'JJ'), ('terrific', 'NN'), ('sensation', 'NN'), ('created', 'VBN'), ('by', 'IN'), ('the', 'DT'), ('appearance', 'NN'), ('of', 'IN'), ('the', 'DT'), ('pilot-yacht', 'NN'), ('prevailed', 'VBD'), ('.', '.'), ('Necks', 'NNS'), ('were', 'VBD'), ('craned', 'VBN'), ('and', 'CC'), ('toes', 'NNS'), ('were', 'VBD'), ('trodden', 'JJ'), ('on', 'IN'), ('as', 'IN'), ('the', 'DT'), ('steamer', 'NN'), ('slackened', 'VBD'), ('speed', 'NN'), (',', ','), ('and', 'CC'), ('a', 'DT'), ('line', 'NN'), ('dexterously', 'RB'), ('thrown', 'VBN'), ('by', 'IN'), ('a', 'DT'), ('blue-jerseyed', 'JJ'), ('deck-hand', 'NN'), ('was', 'VBD'), ('caught', 'VBN'), ('by', 'IN'), ('somebody', 'NN'), ('aboard', 'IN'), ('the', 'DT'), ('yacht', 'NN'), ('.', '.'), ('The', 'DT'), ('pilot', 'NN'), (',', ','), ('not', 'RB'), ('insensible', 'JJ'), ('to', 'TO'), ('the', 'DT'), ('fact', 'NN'), ('of', 'IN'), ('his', 'PRP$'), ('being', 'VBG'), ('a', 'DT'), ('personage', 'NN'), ('of', 'IN'), ('note', 'NN'), (',', ','), ('carefully', 'RB'), ('divested', 'VBD'), ('his', 'PRP$'), ('bearded', 'JJ'), ('countenance', 'NN'), ('of', 'IN'), ('all', 'DT'), ('expression', 'NN'), ('as', 'IN'), ('he', 'PRP'), ('saluted', 'VBD'), ('the', 'DT'), Tree('GPE', [('Captain', 'NNP')]), (',', ','), ('and', 'CC'), ('taking', 'VBG'), ('from', 'IN'), ('the', 'DT'), ('deck-steward', 'JJ'), ('obsequiously', 'RB'), ('proffered', 'VBN'), ('salver', 'RP'), ('a', 'DT'), ('glass', 'NN'), ('containing', 'VBG')]\n"
     ]
    }
   ],
   "source": [
    "results = ne_chunk(tagged_T2)\n",
    "print(results[:100])"
   ]
  },
  {
   "cell_type": "markdown",
   "metadata": {},
   "source": [
    "#### Creating a parse tree from the tagged text "
   ]
  },
  {
   "cell_type": "code",
   "execution_count": 39,
   "metadata": {},
   "outputs": [
    {
     "name": "stdout",
     "output_type": "stream",
     "text": [
      "[('On', 'IN'), Tree('NP', [('board', 'NN')]), ('the', 'DT'), ('Rampatina', 'NNP'), Tree('NP', [('liner', 'NN')]), (',', ','), ('eleven', 'JJ'), ('days', 'NNS'), ('and', 'CC'), Tree('NP', [('a', 'DT'), ('half', 'NN')]), ('out', 'IN'), ('from', 'IN'), ('Liverpool', 'NNP'), (',', ','), Tree('NP', [('the', 'DT'), ('usual', 'JJ'), ('terrific', 'NN')]), Tree('NP', [('sensation', 'NN')]), ('created', 'VBN'), ('by', 'IN'), Tree('NP', [('the', 'DT'), ('appearance', 'NN')]), ('of', 'IN'), Tree('NP', [('the', 'DT'), ('pilot-yacht', 'NN')]), ('prevailed', 'VBD'), ('.', '.'), ('Necks', 'NNS'), ('were', 'VBD'), ('craned', 'VBN'), ('and', 'CC'), ('toes', 'NNS'), ('were', 'VBD'), ('trodden', 'JJ'), ('on', 'IN'), ('as', 'IN'), Tree('NP', [('the', 'DT'), ('steamer', 'NN')]), ('slackened', 'VBD'), Tree('NP', [('speed', 'NN')]), (',', ','), ('and', 'CC'), Tree('NP', [('a', 'DT'), ('line', 'NN')]), ('dexterously', 'RB'), ('thrown', 'VBN'), ('by', 'IN'), Tree('NP', [('a', 'DT'), ('blue-jerseyed', 'JJ'), ('deck-hand', 'NN')]), ('was', 'VBD'), ('caught', 'VBN'), ('by', 'IN'), Tree('NP', [('somebody', 'NN')]), ('aboard', 'IN'), Tree('NP', [('the', 'DT'), ('yacht', 'NN')]), ('.', '.'), Tree('NP', [('The', 'DT'), ('pilot', 'NN')]), (',', ','), ('not', 'RB'), ('insensible', 'JJ'), ('to', 'TO'), Tree('NP', [('the', 'DT'), ('fact', 'NN')]), ('of', 'IN'), ('his', 'PRP$'), ('being', 'VBG'), Tree('NP', [('a', 'DT'), ('personage', 'NN')]), ('of', 'IN'), Tree('NP', [('note', 'NN')]), (',', ','), ('carefully', 'RB'), ('divested', 'VBD'), ('his', 'PRP$'), Tree('NP', [('bearded', 'JJ'), ('countenance', 'NN')]), ('of', 'IN'), Tree('NP', [('all', 'DT'), ('expression', 'NN')]), ('as', 'IN'), ('he', 'PRP'), ('saluted', 'VBD'), ('the', 'DT'), ('Captain', 'NNP'), (',', ','), ('and', 'CC'), ('taking', 'VBG'), ('from', 'IN'), ('the', 'DT'), ('deck-steward', 'JJ'), ('obsequiously', 'RB'), ('proffered', 'VBN'), ('salver', 'RP'), Tree('NP', [('a', 'DT'), ('glass', 'NN')]), ('containing', 'VBG'), ('four-fingers', 'NNS'), ('of', 'IN'), ('neat', 'JJ'), ('Bourbon', 'NNP'), Tree('NP', [('whisky', 'NN')]), (',', ','), ('concealed', 'VBD'), ('its', 'PRP$'), ('contents', 'NNS'), ('about', 'IN'), ('his', 'PRP$'), Tree('NP', [('person', 'NN')]), ('without', 'IN'), Tree('NP', [('perceptible', 'JJ'), ('emotion', 'NN')]), (',', ','), ('and', 'CC')]\n"
     ]
    }
   ],
   "source": [
    "pattern = 'NP: {<DT>?<JJ>*<NN>}'\n",
    "cp = nltk.RegexpParser(pattern)\n",
    "cs = cp.parse(tagged_T2)\n",
    "print(cs[:100])"
   ]
  },
  {
   "cell_type": "markdown",
   "metadata": {},
   "source": [
    "#### Performing IOB tagging using nltk"
   ]
  },
  {
   "cell_type": "code",
   "execution_count": 40,
   "metadata": {
    "scrolled": true
   },
   "outputs": [
    {
     "name": "stdout",
     "output_type": "stream",
     "text": [
      "[('On', 'IN', 'O'),\n",
      " ('board', 'NN', 'B-NP'),\n",
      " ('the', 'DT', 'O'),\n",
      " ('Rampatina', 'NNP', 'O'),\n",
      " ('liner', 'NN', 'B-NP'),\n",
      " (',', ',', 'O'),\n",
      " ('eleven', 'JJ', 'O'),\n",
      " ('days', 'NNS', 'O'),\n",
      " ('and', 'CC', 'O'),\n",
      " ('a', 'DT', 'B-NP'),\n",
      " ('half', 'NN', 'I-NP'),\n",
      " ('out', 'IN', 'O'),\n",
      " ('from', 'IN', 'O'),\n",
      " ('Liverpool', 'NNP', 'O'),\n",
      " (',', ',', 'O'),\n",
      " ('the', 'DT', 'B-NP'),\n",
      " ('usual', 'JJ', 'I-NP'),\n",
      " ('terrific', 'NN', 'I-NP'),\n",
      " ('sensation', 'NN', 'B-NP'),\n",
      " ('created', 'VBN', 'O'),\n",
      " ('by', 'IN', 'O'),\n",
      " ('the', 'DT', 'B-NP'),\n",
      " ('appearance', 'NN', 'I-NP'),\n",
      " ('of', 'IN', 'O'),\n",
      " ('the', 'DT', 'B-NP'),\n",
      " ('pilot-yacht', 'NN', 'I-NP'),\n",
      " ('prevailed', 'VBD', 'O'),\n",
      " ('.', '.', 'O'),\n",
      " ('Necks', 'NNS', 'O'),\n",
      " ('were', 'VBD', 'O'),\n",
      " ('craned', 'VBN', 'O'),\n",
      " ('and', 'CC', 'O'),\n",
      " ('toes', 'NNS', 'O'),\n",
      " ('were', 'VBD', 'O'),\n",
      " ('trodden', 'JJ', 'O'),\n",
      " ('on', 'IN', 'O'),\n",
      " ('as', 'IN', 'O'),\n",
      " ('the', 'DT', 'B-NP'),\n",
      " ('steamer', 'NN', 'I-NP'),\n",
      " ('slackened', 'VBD', 'O'),\n",
      " ('speed', 'NN', 'B-NP'),\n",
      " (',', ',', 'O'),\n",
      " ('and', 'CC', 'O'),\n",
      " ('a', 'DT', 'B-NP'),\n",
      " ('line', 'NN', 'I-NP'),\n",
      " ('dexterously', 'RB', 'O'),\n",
      " ('thrown', 'VBN', 'O'),\n",
      " ('by', 'IN', 'O'),\n",
      " ('a', 'DT', 'B-NP'),\n",
      " ('blue-jerseyed', 'JJ', 'I-NP')]\n"
     ]
    }
   ],
   "source": [
    "from nltk.chunk import tree2conlltags\n",
    "from pprint import pprint\n",
    "iob_tagged = tree2conlltags(cs)\n",
    "pprint(iob_tagged[:50])"
   ]
  },
  {
   "cell_type": "markdown",
   "metadata": {},
   "source": [
    "#### Representing the IOB tags using print function "
   ]
  },
  {
   "cell_type": "code",
   "execution_count": 41,
   "metadata": {
    "scrolled": true
   },
   "outputs": [
    {
     "name": "stdout",
     "output_type": "stream",
     "text": [
      "On IN O\n",
      "board NN B-NP\n",
      "the DT O\n",
      "Rampatina NNP O\n",
      "liner NN B-NP\n",
      ", , O\n",
      "eleven JJ O\n",
      "days NNS O\n",
      "and CC O\n",
      "a DT B-NP\n",
      "half NN I-NP\n",
      "out IN O\n",
      "from IN O\n",
      "Liverpool NNP O\n",
      ", , O\n",
      "the DT B-NP\n",
      "usual JJ I-NP\n",
      "terrific NN I-NP\n",
      "sensation NN B-NP\n",
      "created VBN O\n",
      "by IN O\n",
      "the DT B-NP\n",
      "appearance NN I-NP\n",
      "of IN O\n",
      "the DT B-NP\n",
      "pilot-yacht NN I-NP\n",
      "prevailed VBD O\n",
      ". . O\n",
      "Necks NNS O\n",
      "were VBD O\n",
      "craned VBN O\n",
      "and CC O\n",
      "toes NNS O\n",
      "were VBD O\n",
      "trodden JJ O\n",
      "on IN O\n",
      "as IN O\n",
      "the DT B-NP\n",
      "steamer NN I-NP\n",
      "slackened VBD O\n",
      "speed NN B-NP\n",
      ", , O\n",
      "and CC O\n",
      "a DT B-NP\n",
      "line NN I-NP\n",
      "dexterously RB O\n",
      "thrown VBN O\n",
      "by IN O\n",
      "a DT B-NP\n",
      "blue-jerseyed JJ I-NP\n"
     ]
    }
   ],
   "source": [
    "j = 0\n",
    "for word, pos, ner in iob_tagged:\n",
    "    print(word, pos, ner)\n",
    "    j +=1 \n",
    "    if j == 50:\n",
    "        break"
   ]
  },
  {
   "cell_type": "markdown",
   "metadata": {},
   "source": [
    "<b> Below we are using spacy library for named entity recognition, classification and IOB tagging</b>"
   ]
  },
  {
   "cell_type": "markdown",
   "metadata": {},
   "source": [
    "#### *nlp* function of spacy converts the text to tokens, does IOB tagging and entity recongnition and classification"
   ]
  },
  {
   "cell_type": "code",
   "execution_count": 42,
   "metadata": {},
   "outputs": [],
   "source": [
    "T2 = nlp(T2)"
   ]
  },
  {
   "cell_type": "markdown",
   "metadata": {},
   "source": [
    "#### Below are the IOB tags and entity types of the text"
   ]
  },
  {
   "cell_type": "code",
   "execution_count": 43,
   "metadata": {},
   "outputs": [
    {
     "name": "stdout",
     "output_type": "stream",
     "text": [
      "weeds O \n",
      "were O \n",
      "eminently O \n",
      "becoming O \n",
      ". O \n",
      "Dear O \n",
      "Captain O \n",
      "Ranking O \n",
      ", O \n",
      "how O \n"
     ]
    }
   ],
   "source": [
    "for X in T2[6350:6360]:\n",
    "    print(X, X.ent_iob_, X.ent_type_)"
   ]
  },
  {
   "cell_type": "markdown",
   "metadata": {},
   "source": [
    "#### We extract all the labels of the entity types, labeled by spacy"
   ]
  },
  {
   "cell_type": "code",
   "execution_count": 44,
   "metadata": {},
   "outputs": [],
   "source": [
    "labels = [x.label_ for x in T2.ents]"
   ]
  },
  {
   "cell_type": "markdown",
   "metadata": {},
   "source": [
    "#### *Counter* function of spacy counts all the types of labels in the text"
   ]
  },
  {
   "cell_type": "code",
   "execution_count": 45,
   "metadata": {},
   "outputs": [
    {
     "data": {
      "text/plain": [
       "Counter({'PERSON': 2265,\n",
       "         'DATE': 262,\n",
       "         'GPE': 370,\n",
       "         'PRODUCT': 72,\n",
       "         'CARDINAL': 580,\n",
       "         'ORDINAL': 162,\n",
       "         'NORP': 261,\n",
       "         'ORG': 562,\n",
       "         'QUANTITY': 54,\n",
       "         'TIME': 148,\n",
       "         'WORK_OF_ART': 51,\n",
       "         'LOC': 63,\n",
       "         'FAC': 131,\n",
       "         'MONEY': 13,\n",
       "         'LANGUAGE': 24,\n",
       "         'LAW': 12,\n",
       "         'EVENT': 15})"
      ]
     },
     "execution_count": 45,
     "metadata": {},
     "output_type": "execute_result"
    }
   ],
   "source": [
    "Counter(labels)"
   ]
  },
  {
   "cell_type": "markdown",
   "metadata": {},
   "source": [
    "<b>Book 2</b>"
   ]
  },
  {
   "cell_type": "markdown",
   "metadata": {},
   "source": [
    "#### We use nltk for pos tagging and tokenizing the text which is required later for chunking and IOB tagging"
   ]
  },
  {
   "cell_type": "code",
   "execution_count": 46,
   "metadata": {
    "scrolled": true
   },
   "outputs": [
    {
     "data": {
      "text/plain": [
       "[('rtrait', 'NN'),\n",
       " ('Portrait', 'NNP'),\n",
       " ('Drawing', 'NNP'),\n",
       " ('Portrait', 'NNP'),\n",
       " ('Study', 'NNP'),\n",
       " ('Portrait', 'NNP'),\n",
       " ('A', 'NNP'),\n",
       " ('A', 'NNP'),\n",
       " ('Toward', 'NNP'),\n",
       " ('dusk', 'NN'),\n",
       " (',', ','),\n",
       " ('in', 'IN'),\n",
       " ('the', 'DT'),\n",
       " ('Summer', 'NNP'),\n",
       " ('of', 'IN'),\n",
       " ('the', 'DT'),\n",
       " ('year', 'NN'),\n",
       " (',', ','),\n",
       " ('a', 'DT'),\n",
       " ('man', 'NN'),\n",
       " ('dressed', 'VBN'),\n",
       " ('in', 'IN'),\n",
       " ('a', 'DT'),\n",
       " ('frock', 'NN'),\n",
       " ('coat', 'NN'),\n",
       " ('and', 'CC'),\n",
       " ('top', 'JJ'),\n",
       " ('hat', 'NN'),\n",
       " (',', ','),\n",
       " ('and', 'CC'),\n",
       " ('carrying', 'VBG'),\n",
       " ('a', 'DT'),\n",
       " ('cane', 'NN'),\n",
       " (',', ','),\n",
       " ('crept', 'VBD'),\n",
       " ('through', 'IN'),\n",
       " ('the', 'DT'),\n",
       " ('underbrush', 'JJ'),\n",
       " ('bordering', 'VBG'),\n",
       " ('the', 'DT'),\n",
       " ('corral', 'NN'),\n",
       " ('of', 'IN'),\n",
       " ('the', 'DT'),\n",
       " ('Buckler', 'NNP'),\n",
       " ('farm', 'NN'),\n",
       " ('.', '.'),\n",
       " ('As', 'IN'),\n",
       " ('he', 'PRP'),\n",
       " ('moved', 'VBD'),\n",
       " (',', ','),\n",
       " ('small', 'JJ'),\n",
       " ('twigs', 'NNS'),\n",
       " ('snapped', 'VBD'),\n",
       " (',', ','),\n",
       " ('fell', 'VBD'),\n",
       " ('and', 'CC'),\n",
       " ('were', 'VBD'),\n",
       " ('silent', 'JJ'),\n",
       " ('.', '.'),\n",
       " ('His', 'PRP$'),\n",
       " ('knees', 'NNS'),\n",
       " ('were', 'VBD'),\n",
       " ('green', 'JJ'),\n",
       " ('from', 'IN'),\n",
       " ('wounded', 'VBN'),\n",
       " ('shrubbery', 'NN'),\n",
       " ('and', 'CC'),\n",
       " ('grass', 'NN'),\n",
       " (',', ','),\n",
       " ('and', 'CC'),\n",
       " ('his', 'PRP$'),\n",
       " ('outspread', 'JJ'),\n",
       " ('hands', 'NNS'),\n",
       " ('tore', 'RB'),\n",
       " ('unheeded', 'JJ'),\n",
       " ('plants', 'NNS'),\n",
       " ('.', '.'),\n",
       " ('His', 'PRP$'),\n",
       " ('wrists', 'NNS'),\n",
       " ('hurt', 'VBP'),\n",
       " ('him', 'PRP'),\n",
       " ('and', 'CC'),\n",
       " ('he', 'PRP'),\n",
       " ('rested', 'VBD'),\n",
       " ('from', 'IN'),\n",
       " ('time', 'NN'),\n",
       " ('to', 'TO'),\n",
       " ('time', 'NN'),\n",
       " (',', ','),\n",
       " ('always', 'RB'),\n",
       " ('caring', 'VBG'),\n",
       " ('for', 'IN'),\n",
       " ('his', 'PRP$'),\n",
       " ('hat', 'NN'),\n",
       " ('and', 'CC'),\n",
       " ('knotted', 'VBD'),\n",
       " ('yellow', 'JJ'),\n",
       " ('cane', 'NN'),\n",
       " (',', ','),\n",
       " ('blowing', 'VBG')]"
      ]
     },
     "execution_count": 46,
     "metadata": {},
     "output_type": "execute_result"
    }
   ],
   "source": [
    "tagged_S2 = nltk.word_tokenize(S2)\n",
    "tagged_S2 = nltk.pos_tag(tagged_S2)\n",
    "tagged_S2[:100]"
   ]
  },
  {
   "cell_type": "markdown",
   "metadata": {},
   "source": [
    "#### Using nltk function *ne_chunk* for chunking the text and named entity recognition"
   ]
  },
  {
   "cell_type": "code",
   "execution_count": 47,
   "metadata": {},
   "outputs": [
    {
     "name": "stdout",
     "output_type": "stream",
     "text": [
      "[('rtrait', 'NN'), Tree('PERSON', [('Portrait', 'NNP'), ('Drawing', 'NNP'), ('Portrait', 'NNP'), ('Study', 'NNP'), ('Portrait', 'NNP')]), ('A', 'NNP'), ('A', 'NNP'), ('Toward', 'NNP'), ('dusk', 'NN'), (',', ','), ('in', 'IN'), ('the', 'DT'), Tree('ORGANIZATION', [('Summer', 'NNP')]), ('of', 'IN'), ('the', 'DT'), ('year', 'NN'), (',', ','), ('a', 'DT'), ('man', 'NN'), ('dressed', 'VBN'), ('in', 'IN'), ('a', 'DT'), ('frock', 'NN'), ('coat', 'NN'), ('and', 'CC'), ('top', 'JJ'), ('hat', 'NN'), (',', ','), ('and', 'CC'), ('carrying', 'VBG'), ('a', 'DT'), ('cane', 'NN'), (',', ','), ('crept', 'VBD'), ('through', 'IN'), ('the', 'DT'), ('underbrush', 'JJ'), ('bordering', 'VBG'), ('the', 'DT'), ('corral', 'NN'), ('of', 'IN'), ('the', 'DT'), Tree('ORGANIZATION', [('Buckler', 'NNP')]), ('farm', 'NN'), ('.', '.'), ('As', 'IN'), ('he', 'PRP'), ('moved', 'VBD'), (',', ','), ('small', 'JJ'), ('twigs', 'NNS'), ('snapped', 'VBD'), (',', ','), ('fell', 'VBD'), ('and', 'CC'), ('were', 'VBD'), ('silent', 'JJ'), ('.', '.'), ('His', 'PRP$'), ('knees', 'NNS'), ('were', 'VBD'), ('green', 'JJ'), ('from', 'IN'), ('wounded', 'VBN'), ('shrubbery', 'NN'), ('and', 'CC'), ('grass', 'NN'), (',', ','), ('and', 'CC'), ('his', 'PRP$'), ('outspread', 'JJ'), ('hands', 'NNS'), ('tore', 'RB'), ('unheeded', 'JJ'), ('plants', 'NNS'), ('.', '.'), ('His', 'PRP$'), ('wrists', 'NNS'), ('hurt', 'VBP'), ('him', 'PRP'), ('and', 'CC'), ('he', 'PRP'), ('rested', 'VBD'), ('from', 'IN'), ('time', 'NN'), ('to', 'TO'), ('time', 'NN'), (',', ','), ('always', 'RB'), ('caring', 'VBG'), ('for', 'IN'), ('his', 'PRP$'), ('hat', 'NN'), ('and', 'CC'), ('knotted', 'VBD'), ('yellow', 'JJ'), ('cane', 'NN'), (',', ','), ('blowing', 'VBG'), ('through', 'IN'), ('his', 'PRP$'), ('moustache', 'NN'), ('.', '.')]\n"
     ]
    }
   ],
   "source": [
    "results2 = ne_chunk(tagged_S2)\n",
    "print(results2[:100])"
   ]
  },
  {
   "cell_type": "markdown",
   "metadata": {},
   "source": [
    "#### Creating a parse tree from the tagged text "
   ]
  },
  {
   "cell_type": "code",
   "execution_count": 48,
   "metadata": {},
   "outputs": [
    {
     "name": "stdout",
     "output_type": "stream",
     "text": [
      "[Tree('NP', [('rtrait', 'NN')]), ('Portrait', 'NNP'), ('Drawing', 'NNP'), ('Portrait', 'NNP'), ('Study', 'NNP'), ('Portrait', 'NNP'), ('A', 'NNP'), ('A', 'NNP'), ('Toward', 'NNP'), Tree('NP', [('dusk', 'NN')]), (',', ','), ('in', 'IN'), ('the', 'DT'), ('Summer', 'NNP'), ('of', 'IN'), Tree('NP', [('the', 'DT'), ('year', 'NN')]), (',', ','), Tree('NP', [('a', 'DT'), ('man', 'NN')]), ('dressed', 'VBN'), ('in', 'IN'), Tree('NP', [('a', 'DT'), ('frock', 'NN')]), Tree('NP', [('coat', 'NN')]), ('and', 'CC'), Tree('NP', [('top', 'JJ'), ('hat', 'NN')]), (',', ','), ('and', 'CC'), ('carrying', 'VBG'), Tree('NP', [('a', 'DT'), ('cane', 'NN')]), (',', ','), ('crept', 'VBD'), ('through', 'IN'), ('the', 'DT'), ('underbrush', 'JJ'), ('bordering', 'VBG'), Tree('NP', [('the', 'DT'), ('corral', 'NN')]), ('of', 'IN'), ('the', 'DT'), ('Buckler', 'NNP'), Tree('NP', [('farm', 'NN')]), ('.', '.'), ('As', 'IN'), ('he', 'PRP'), ('moved', 'VBD'), (',', ','), ('small', 'JJ'), ('twigs', 'NNS'), ('snapped', 'VBD'), (',', ','), ('fell', 'VBD'), ('and', 'CC'), ('were', 'VBD'), ('silent', 'JJ'), ('.', '.'), ('His', 'PRP$'), ('knees', 'NNS'), ('were', 'VBD'), ('green', 'JJ'), ('from', 'IN'), ('wounded', 'VBN'), Tree('NP', [('shrubbery', 'NN')]), ('and', 'CC'), Tree('NP', [('grass', 'NN')]), (',', ','), ('and', 'CC'), ('his', 'PRP$'), ('outspread', 'JJ'), ('hands', 'NNS'), ('tore', 'RB'), ('unheeded', 'JJ'), ('plants', 'NNS'), ('.', '.'), ('His', 'PRP$'), ('wrists', 'NNS'), ('hurt', 'VBP'), ('him', 'PRP'), ('and', 'CC'), ('he', 'PRP'), ('rested', 'VBD'), ('from', 'IN'), Tree('NP', [('time', 'NN')]), ('to', 'TO'), Tree('NP', [('time', 'NN')]), (',', ','), ('always', 'RB'), ('caring', 'VBG'), ('for', 'IN'), ('his', 'PRP$'), Tree('NP', [('hat', 'NN')]), ('and', 'CC'), ('knotted', 'VBD'), Tree('NP', [('yellow', 'JJ'), ('cane', 'NN')]), (',', ','), ('blowing', 'VBG'), ('through', 'IN'), ('his', 'PRP$'), Tree('NP', [('moustache', 'NN')]), ('.', '.'), ('Dew', 'NNP'), ('had', 'VBD'), ('been', 'VBN')]\n"
     ]
    }
   ],
   "source": [
    "pattern = 'NP: {<DT>?<JJ>*<NN>}'\n",
    "cp2 = nltk.RegexpParser(pattern)\n",
    "cs2 = cp2.parse(tagged_S2)\n",
    "print(cs2[:100])"
   ]
  },
  {
   "cell_type": "markdown",
   "metadata": {},
   "source": [
    "#### Performing IOB tagging using nltk"
   ]
  },
  {
   "cell_type": "code",
   "execution_count": 49,
   "metadata": {
    "scrolled": true
   },
   "outputs": [
    {
     "name": "stdout",
     "output_type": "stream",
     "text": [
      "[('rtrait', 'NN', 'B-NP'),\n",
      " ('Portrait', 'NNP', 'O'),\n",
      " ('Drawing', 'NNP', 'O'),\n",
      " ('Portrait', 'NNP', 'O'),\n",
      " ('Study', 'NNP', 'O'),\n",
      " ('Portrait', 'NNP', 'O'),\n",
      " ('A', 'NNP', 'O'),\n",
      " ('A', 'NNP', 'O'),\n",
      " ('Toward', 'NNP', 'O'),\n",
      " ('dusk', 'NN', 'B-NP'),\n",
      " (',', ',', 'O'),\n",
      " ('in', 'IN', 'O'),\n",
      " ('the', 'DT', 'O'),\n",
      " ('Summer', 'NNP', 'O'),\n",
      " ('of', 'IN', 'O'),\n",
      " ('the', 'DT', 'B-NP'),\n",
      " ('year', 'NN', 'I-NP'),\n",
      " (',', ',', 'O'),\n",
      " ('a', 'DT', 'B-NP'),\n",
      " ('man', 'NN', 'I-NP'),\n",
      " ('dressed', 'VBN', 'O'),\n",
      " ('in', 'IN', 'O'),\n",
      " ('a', 'DT', 'B-NP'),\n",
      " ('frock', 'NN', 'I-NP'),\n",
      " ('coat', 'NN', 'B-NP'),\n",
      " ('and', 'CC', 'O'),\n",
      " ('top', 'JJ', 'B-NP'),\n",
      " ('hat', 'NN', 'I-NP'),\n",
      " (',', ',', 'O'),\n",
      " ('and', 'CC', 'O'),\n",
      " ('carrying', 'VBG', 'O'),\n",
      " ('a', 'DT', 'B-NP'),\n",
      " ('cane', 'NN', 'I-NP'),\n",
      " (',', ',', 'O'),\n",
      " ('crept', 'VBD', 'O'),\n",
      " ('through', 'IN', 'O'),\n",
      " ('the', 'DT', 'O'),\n",
      " ('underbrush', 'JJ', 'O'),\n",
      " ('bordering', 'VBG', 'O'),\n",
      " ('the', 'DT', 'B-NP'),\n",
      " ('corral', 'NN', 'I-NP'),\n",
      " ('of', 'IN', 'O'),\n",
      " ('the', 'DT', 'O'),\n",
      " ('Buckler', 'NNP', 'O'),\n",
      " ('farm', 'NN', 'B-NP'),\n",
      " ('.', '.', 'O'),\n",
      " ('As', 'IN', 'O'),\n",
      " ('he', 'PRP', 'O'),\n",
      " ('moved', 'VBD', 'O'),\n",
      " (',', ',', 'O')]\n"
     ]
    }
   ],
   "source": [
    "from nltk.chunk import conlltags2tree, tree2conlltags\n",
    "from pprint import pprint\n",
    "iob_tagged2 = tree2conlltags(cs2)\n",
    "pprint(iob_tagged2[:50])"
   ]
  },
  {
   "cell_type": "markdown",
   "metadata": {},
   "source": [
    "#### Representing the IOB tags using print function "
   ]
  },
  {
   "cell_type": "code",
   "execution_count": 50,
   "metadata": {},
   "outputs": [
    {
     "name": "stdout",
     "output_type": "stream",
     "text": [
      "rtrait NN B-NP\n",
      "Portrait NNP O\n",
      "Drawing NNP O\n",
      "Portrait NNP O\n",
      "Study NNP O\n",
      "Portrait NNP O\n",
      "A NNP O\n",
      "A NNP O\n",
      "Toward NNP O\n",
      "dusk NN B-NP\n"
     ]
    }
   ],
   "source": [
    "j = 0\n",
    "for word, pos, ner in iob_tagged2:\n",
    "    print(word, pos, ner)\n",
    "    j +=1 \n",
    "    if j == 10:\n",
    "        break"
   ]
  },
  {
   "cell_type": "markdown",
   "metadata": {},
   "source": [
    "<b>Below we are using spacy library for named entity recognition, classification and IOB tagging</b>"
   ]
  },
  {
   "cell_type": "markdown",
   "metadata": {},
   "source": [
    "#### *nlp* function of spacy converts the text to tokens, does IOB tagging and entity recongnition and classification"
   ]
  },
  {
   "cell_type": "code",
   "execution_count": 51,
   "metadata": {},
   "outputs": [],
   "source": [
    "S2 = nlp(S2)"
   ]
  },
  {
   "cell_type": "markdown",
   "metadata": {},
   "source": [
    "#### Below are the IOB tags and entity types of the text"
   ]
  },
  {
   "cell_type": "code",
   "execution_count": 52,
   "metadata": {},
   "outputs": [
    {
     "name": "stdout",
     "output_type": "stream",
     "text": [
      "— O \n",
      "— O \n",
      "— O \n",
      "Oh O \n",
      ", O \n",
      "my O \n",
      "God O \n",
      "! O \n",
      "[ O \n",
      "_ O \n"
     ]
    }
   ],
   "source": [
    "\n",
    "for X in S2[6350:6360]:\n",
    "    print(X, X.ent_iob_, X.ent_type_)\n",
    "    "
   ]
  },
  {
   "cell_type": "markdown",
   "metadata": {},
   "source": [
    "#### We extract all the labels of the entity types, labeled by spacy"
   ]
  },
  {
   "cell_type": "code",
   "execution_count": 53,
   "metadata": {},
   "outputs": [],
   "source": [
    "labels2 = [x.label_ for x in S2.ents]"
   ]
  },
  {
   "cell_type": "markdown",
   "metadata": {},
   "source": [
    "#### *Counter* function of spacy counts all the types of labels in the text"
   ]
  },
  {
   "cell_type": "code",
   "execution_count": 54,
   "metadata": {},
   "outputs": [
    {
     "data": {
      "text/plain": [
       "Counter({'ORG': 92,\n",
       "         'TIME': 67,\n",
       "         'DATE': 120,\n",
       "         'PERSON': 380,\n",
       "         'QUANTITY': 9,\n",
       "         'LOC': 25,\n",
       "         'CARDINAL': 229,\n",
       "         'FAC': 9,\n",
       "         'NORP': 52,\n",
       "         'GPE': 61,\n",
       "         'PRODUCT': 6,\n",
       "         'ORDINAL': 30,\n",
       "         'MONEY': 1,\n",
       "         'WORK_OF_ART': 16,\n",
       "         'EVENT': 2,\n",
       "         'LANGUAGE': 7})"
      ]
     },
     "execution_count": 54,
     "metadata": {},
     "output_type": "execute_result"
    }
   ],
   "source": [
    "Counter(labels2)"
   ]
  },
  {
   "cell_type": "markdown",
   "metadata": {},
   "source": [
    "# Performanace Measures"
   ]
  },
  {
   "cell_type": "markdown",
   "metadata": {},
   "source": [
    "We used seqeval library for finding the <b>F-score</b> and <b>accuracy</b> of our classifier"
   ]
  },
  {
   "cell_type": "markdown",
   "metadata": {},
   "source": [
    "<b>BOOK 1 </b>"
   ]
  },
  {
   "cell_type": "markdown",
   "metadata": {},
   "source": [
    "#### Since we only require the entity types specified in fig. 22.1 of chapter 22 we only extract those in our predicted entity list. Below only a part of the text (from 6350 to 6750 character) is shown because we use the same for finding the F-score"
   ]
  },
  {
   "cell_type": "code",
   "execution_count": 55,
   "metadata": {
    "scrolled": false
   },
   "outputs": [
    {
     "name": "stdout",
     "output_type": "stream",
     "text": [
      "['O', 'O', 'O', 'O', 'O', 'O', 'O', 'O', 'O', 'O', 'O', 'O', 'O', 'O', 'O', 'O', 'O', 'B-PERSON', 'O', 'O', 'O', 'O', 'O', 'O', 'O', 'B-GPE', 'O', 'O', 'O', 'O', 'O', 'O', 'O', 'O', 'O', 'O', 'O', 'O', 'O', 'O', 'O', 'O', 'O', 'O', 'O', 'O', 'O', 'O', 'O', 'O', 'O', 'O', 'O', 'O', 'O', 'O', 'O', 'O', 'O', 'O', 'O', 'O', 'O', 'O', 'O', 'O', 'O', 'O', 'O', 'O', 'O', 'O', 'O', 'O', 'O', 'O', 'O', 'B-PERSON', 'O', 'O', 'O', 'O', 'O', 'O', 'O', 'O', 'O', 'O', 'O', 'O', 'O', 'O', 'O', 'O', 'O', 'O', 'O', 'O', 'O', 'O', 'O', 'O', 'O', 'O', 'O', 'O', 'O', 'O', 'O', 'O', 'O', 'O', 'O', 'O', 'O', 'O', 'O', 'O', 'O', 'O', 'O', 'O', 'O', 'B-PERSON', 'O', 'O', 'O', 'O', 'O', 'O', 'O', 'O', 'O', 'O', 'O', 'O', 'O', 'O', 'O', 'O', 'O', 'O', 'O', 'O', 'O', 'O', 'O', 'O', 'O', 'O', 'O', 'O', 'O', 'O', 'O', 'O', 'O', 'O', 'O', 'O', 'O', 'O', 'O', 'O', 'O', 'B-PERSON', 'O', 'O', 'O', 'O', 'O', 'O', 'O', 'O', 'O', 'O', 'B-PERSON', 'O', 'O', 'O', 'O', 'O', 'O', 'O', 'O', 'O', 'O', 'O', 'O', 'O', 'O', 'O', 'O', 'O', 'O', 'O', 'O', 'O', 'O', 'O', 'O', 'O', 'O', 'O', 'O', 'O', 'O', 'O', 'O', 'O', 'O', 'O', 'O', 'O', 'B-PERSON', 'O', 'O', 'O', 'O', 'O', 'O', 'O', 'O', 'O', 'O', 'O', 'O', 'O', 'O', 'O', 'B-FAC', 'B-FAC', 'O', 'O', 'O', 'O', 'O', 'O', 'O', 'O', 'O', 'O', 'O', 'O', 'O', 'B-PERSON', 'O', 'O', 'O', 'O', 'O', 'O', 'O', 'O', 'O', 'O', 'B-PERSON', 'O', 'O', 'O', 'O', 'O', 'O', 'O', 'O', 'O', 'O', 'B-PERSON', 'O', 'O', 'B-PERSON', 'O', 'O', 'O', 'O', 'O', 'O', 'O', 'O', 'O', 'O', 'O', 'O', 'O', 'O', 'O', 'O', 'O', 'O', 'O', 'O', 'O', 'O', 'O', 'O', 'O', 'O', 'O', 'O', 'O', 'O', 'O', 'O', 'O', 'O', 'O', 'O', 'O', 'O', 'O', 'O', 'O', 'O', 'O', 'O', 'O', 'O', 'O', 'O', 'O', 'O', 'O', 'O', 'O', 'O', 'O', 'O', 'O', 'O', 'O', 'O', 'O', 'O', 'O', 'O', 'O', 'O', 'O', 'O', 'O', 'O', 'O', 'B-PERSON', 'O', 'O', 'B-PERSON', 'B-PERSON', 'O', 'O', 'O', 'O', 'O', 'O', 'O', 'O', 'O', 'O', 'O', 'O', 'O', 'O', 'O', 'O', 'O', 'O', 'O', 'O', 'O', 'O', 'O', 'O', 'O', 'O', 'O', 'O', 'O', 'O', 'O', 'O', 'O', 'O', 'O', 'O', 'O', 'O', 'O', 'O', 'O', 'O', 'O', 'O', 'O', 'O', 'O', 'O']\n"
     ]
    }
   ],
   "source": [
    "entity_pred = []\n",
    "\n",
    "for X in T2[6350:6750]:\n",
    "    if X.ent_type_ == \"GPE\" or X.ent_type_ == \"PERSON\" or X.ent_type_ == \"ORG\" or X.ent_type_ == \"FAC\" or X.ent_type_ == \"LOC\":\n",
    "        entity_pred.append('B-'+X.ent_type_)\n",
    "    elif X.ent_type_==\"\":\n",
    "        entity_pred.append('O')\n",
    "        \n",
    "print(entity_pred)"
   ]
  },
  {
   "cell_type": "markdown",
   "metadata": {},
   "source": [
    "#### Now we convert this predicted entity list into a list of list manually such that each list element consists of only one entity"
   ]
  },
  {
   "cell_type": "code",
   "execution_count": 56,
   "metadata": {},
   "outputs": [],
   "source": [
    "entity_pred = [['O', 'O', 'O', 'O', 'O', 'O', 'O', 'O', 'O', 'O', 'O', 'O', 'O', 'O', 'O', 'O', 'O', 'B-PERSON', 'O', 'O', 'O', 'O', 'O', 'O', 'O'], ['B-ORG', 'O', 'O', 'O', 'O', 'O', 'O', 'O', 'O', 'O', 'O', 'O', 'O', 'O', 'O', 'O', 'O', 'O', 'O', 'O', 'O', 'O', 'O', 'O', 'O', 'O', 'O', 'O', 'O', 'O', 'O', 'O', 'O', 'O', 'O', 'O', 'O', 'O', 'O', 'O', 'O', 'O', 'O', 'O', 'O', 'O', 'O', 'O', 'O', 'O', 'O', 'O'], ['B-PERSON', 'O', 'O', 'O', 'O', 'O', 'O', 'O', 'O', 'O', 'O', 'O', 'O', 'O', 'O', 'O', 'O', 'O', 'O', 'O', 'O', 'O', 'O', 'O', 'O', 'O', 'O', 'O', 'O', 'O', 'O', 'O', 'O', 'O', 'O', 'O', 'O', 'O', 'O', 'O', 'O', 'O', 'O', 'O', 'O', 'O'],['B-PERSON', 'O', 'O', 'O', 'O', 'O', 'O', 'O', 'O', 'O', 'O', 'O', 'O', 'O', 'O', 'O', 'O', 'O', 'O', 'O', 'O', 'O', 'O', 'O', 'O', 'O', 'O', 'O', 'O', 'O', 'O', 'O', 'O', 'O', 'O', 'O', 'O', 'O', 'O', 'O', 'O', 'O'], ['B-PERSON', 'O', 'O', 'O', 'O', 'O', 'O', 'O', 'O', 'O', 'O'], ['B-PERSON', 'O', 'O', 'O', 'O', 'O', 'O', 'O', 'O', 'O', 'O', 'O', 'O', 'O', 'O', 'O', 'O', 'O', 'O', 'O', 'O', 'O', 'O', 'O', 'O', 'O', 'O', 'O', 'O', 'O', 'O', 'O', 'O', 'O', 'O', 'O', 'O', 'O'], ['B-PERSON', 'O', 'O', 'O', 'O', 'O', 'O', 'O', 'O', 'O', 'O', 'O', 'O', 'O', 'O', 'O'], ['B-FAC', 'I-FAC', 'O', 'O', 'O', 'O', 'O', 'O', 'O', 'O', 'O', 'O', 'O', 'O', 'O'], ['B-PERSON', 'O', 'O', 'O', 'O', 'O', 'O', 'O', 'O', 'O', 'O'], ['B-PERSON', 'O', 'O', 'O', 'O', 'O', 'O', 'O', 'O', 'O', 'O'], ['B-PERSON', 'O', 'O'], ['B-PERSON', 'O', 'O', 'O', 'O', 'O', 'O'], ['B-PERSON', 'O', 'O', 'O'], ['B-PERSON', 'O', 'O', 'O', 'O', 'O', 'O', 'O', 'O', 'O', 'O', 'O', 'O', 'O', 'O', 'O', 'O', 'O', 'O', 'O', 'O', 'O', 'O', 'O', 'O', 'O', 'O', 'O', 'O', 'O', 'O', 'O', 'O', 'O', 'O', 'O', 'O', 'O', 'O', 'O', 'O', 'O', 'O', 'O', 'O', 'O', 'O', 'O', 'O', 'O', 'O', 'O', 'O', 'O', 'O', 'O', 'O', 'O', 'O'], ['B-PERSON', 'I-PERSON', 'O', 'O'], ['B-PERSON', 'O', 'O'], ['B-PERSON', 'I-PERSON', 'O', 'O', 'O', 'O', 'O', 'O', 'O', 'O', 'O', 'O'], ['B-PERSON', 'O', 'O', 'O', 'O', 'O', 'O', 'O', 'O', 'O', 'O', 'O', 'O', 'O', 'O', 'O', 'O', 'O', 'O', 'O', 'O', 'O', 'O', 'O', 'O', 'O', 'O', 'O', 'O', 'O', 'O', 'O', 'O', 'O', 'O', 'O', 'O', 'O']] "
   ]
  },
  {
   "cell_type": "markdown",
   "metadata": {},
   "source": [
    "#### We now create a entity type list of the actual values in the paragraph which we tagged manually"
   ]
  },
  {
   "cell_type": "code",
   "execution_count": 57,
   "metadata": {},
   "outputs": [],
   "source": [
    "entity_true = [['O', 'O', 'O', 'O', 'O', 'O', 'O', 'O', 'O', 'O', 'O', 'O', 'O', 'O', 'O', 'O', 'O', 'B-PERSON', 'O', 'O', 'O', 'O', 'O', 'O', 'O'], ['B-PERSON', 'O', 'O', 'O', 'O', 'O', 'O', 'O', 'O', 'O', 'O', 'O', 'O', 'O', 'O', 'O', 'O', 'O', 'O', 'O', 'O', 'O', 'O', 'O', 'O', 'O', 'O', 'O', 'O', 'O', 'O', 'O', 'O', 'O', 'O', 'O', 'O', 'O', 'O', 'O', 'O', 'O', 'O', 'O', 'O', 'O', 'O', 'O', 'O', 'O', 'O', 'O'], ['B-PERSON', 'O', 'O', 'O', 'O', 'O', 'O', 'O', 'O', 'O', 'O', 'O', 'O', 'O', 'O', 'O', 'O', 'O', 'O', 'O', 'O', 'O', 'O', 'O', 'O', 'O', 'O', 'O', 'O', 'O', 'O', 'O', 'O', 'O', 'O', 'O', 'O', 'O', 'O', 'O', 'O', 'O', 'O', 'O', 'O', 'O'],['B-PERSON', 'O', 'O', 'O', 'O', 'O', 'O', 'O', 'O', 'O', 'O', 'O', 'O', 'O', 'O', 'O', 'O', 'O', 'O', 'O', 'O', 'O', 'O', 'O', 'O', 'O', 'O', 'O', 'O', 'O', 'O', 'O', 'O', 'O', 'O', 'O', 'O', 'O', 'O', 'O', 'O', 'O'], ['B-PERSON', 'O', 'O', 'O', 'O', 'O', 'O', 'O', 'O', 'O', 'O'], ['B-PERSON', 'O', 'O', 'O', 'O', 'O', 'O', 'O', 'O', 'O', 'O', 'O', 'O', 'O', 'O', 'O', 'O', 'O', 'O', 'O', 'O', 'O', 'O', 'O', 'O', 'O', 'O', 'O', 'O', 'O', 'O', 'O', 'O', 'O', 'O', 'O', 'O', 'O'], ['B-PERSON', 'O', 'O', 'O', 'O', 'O', 'O', 'O', 'O', 'O', 'O', 'O', 'O', 'O', 'O', 'O'], ['B-LOC', 'I-LOC', 'O', 'O', 'O', 'O', 'O', 'O', 'O', 'O', 'O', 'O', 'O', 'O', 'O'], ['B-PERSON', 'O', 'O', 'O', 'O', 'O', 'O', 'O', 'O', 'O', 'O'], ['B-PERSON', 'O', 'O', 'O', 'O', 'O', 'O', 'O', 'O', 'O', 'O'], ['B-PERSON', 'O', 'O'], ['B-PERSON', 'O', 'O', 'O', 'O', 'O', 'O'], ['B-PERSON', 'O', 'O', 'O'], ['B-PERSON', 'O', 'O', 'O', 'O', 'O', 'O', 'O', 'O', 'O', 'O', 'O', 'O', 'O', 'O', 'O', 'O', 'O', 'O', 'O', 'O', 'O', 'O', 'O', 'O', 'O', 'O', 'O', 'O', 'O', 'O', 'O', 'O', 'O', 'O', 'O', 'O', 'O', 'O', 'O', 'O', 'O', 'O', 'O', 'O', 'O', 'O', 'O', 'O', 'O', 'O', 'O', 'O', 'O', 'O', 'O', 'O', 'O', 'O'], ['B-PERSON', 'I-PERSON', 'O', 'O'], ['B-PERSON', 'O', 'O'], ['B-PERSON', 'I-PERSON', 'O', 'O', 'O', 'O', 'O', 'O', 'O', 'O', 'O', 'O'], ['B-PERSON', 'O', 'O', 'O', 'O', 'O', 'O', 'O', 'O', 'O', 'O', 'O', 'O', 'O', 'O', 'O', 'O', 'O', 'O', 'O', 'O', 'O', 'O', 'O', 'O', 'O', 'O', 'O', 'O', 'O', 'O', 'O', 'O', 'O', 'O', 'O', 'O', 'O']] "
   ]
  },
  {
   "cell_type": "markdown",
   "metadata": {},
   "source": [
    "#### Finding the F-score between actual entity types and predicted entity types"
   ]
  },
  {
   "cell_type": "code",
   "execution_count": 58,
   "metadata": {},
   "outputs": [
    {
     "data": {
      "text/plain": [
       "0.8888888888888888"
      ]
     },
     "execution_count": 58,
     "metadata": {},
     "output_type": "execute_result"
    }
   ],
   "source": [
    "f1_score(entity_true, entity_pred)"
   ]
  },
  {
   "cell_type": "markdown",
   "metadata": {},
   "source": [
    "#### Below is the accuracy score for the same"
   ]
  },
  {
   "cell_type": "code",
   "execution_count": 59,
   "metadata": {},
   "outputs": [
    {
     "data": {
      "text/plain": [
       "0.9924433249370277"
      ]
     },
     "execution_count": 59,
     "metadata": {},
     "output_type": "execute_result"
    }
   ],
   "source": [
    "accuracy_score(entity_true, entity_pred)"
   ]
  },
  {
   "cell_type": "markdown",
   "metadata": {},
   "source": [
    "<b> BOOK 2 </b>"
   ]
  },
  {
   "cell_type": "markdown",
   "metadata": {},
   "source": [
    "#### Since we only require the entity types specified in fig. 22.1 of chapter 22 we only extract those in our predicted entity list. Below only a part of the text (from 7050 to 7500 character) is shown because we use the same for finding the F-score"
   ]
  },
  {
   "cell_type": "code",
   "execution_count": 60,
   "metadata": {
    "scrolled": true
   },
   "outputs": [
    {
     "name": "stdout",
     "output_type": "stream",
     "text": [
      "['ORG', 'O', 'O', 'O', 'O', 'O', 'O', 'O', 'O', 'O', 'O', 'O', 'O', 'O', 'O', 'O', 'ORG', 'ORG', 'ORG', 'O', 'O', 'O', 'O', 'O', 'O', 'O', 'O', 'O', 'O', 'O', 'PERSON', 'PERSON', 'PERSON', 'O', 'O', 'O', 'O', 'O', 'O', 'O', 'O', 'O', 'O', 'O', 'O', 'O', 'O', 'O', 'O', 'O', 'O', 'O', 'O', 'O', 'O', 'O', 'O', 'O', 'O', 'O', 'O', 'O', 'O', 'O', 'O', 'O', 'O', 'O', 'O', 'O', 'O', 'O', 'O', 'O', 'O', 'O', 'O', 'O', 'O', 'O', 'O', 'O', 'O', 'O', 'O', 'O', 'O', 'O', 'O', 'O', 'O', 'O', 'O', 'O', 'O', 'O', 'O', 'O', 'O', 'O', 'O', 'O', 'O', 'O', 'O', 'O', 'O', 'O', 'O', 'O', 'O', 'O', 'O', 'O', 'O', 'O', 'O', 'O', 'O', 'O', 'O', 'O', 'O', 'O', 'O', 'O', 'O', 'O', 'O', 'O', 'O', 'O', 'O', 'O', 'O', 'O', 'O', 'O', 'O', 'O', 'O', 'O', 'O', 'O', 'O', 'O', 'O', 'O', 'O', 'O', 'O', 'PERSON', 'O', 'O', 'O', 'O', 'O', 'O', 'O', 'O', 'O', 'O', 'O', 'O', 'O', 'O', 'O', 'O', 'O', 'O', 'O', 'O', 'O', 'O', 'O', 'O', 'O', 'O', 'O', 'O', 'O', 'O', 'O', 'O', 'O', 'O', 'O', 'O', 'O', 'O', 'O', 'O', 'O', 'O', 'O', 'O', 'O', 'O', 'O', 'O', 'O', 'O', 'O', 'O', 'O', 'O', 'O', 'O', 'O', 'O', 'O', 'O', 'O', 'O', 'O', 'O', 'O', 'O', 'O', 'O', 'O', 'O', 'O', 'O', 'O', 'O', 'O', 'O', 'O', 'O', 'O', 'O', 'O', 'O', 'O', 'O', 'O', 'O', 'O', 'O', 'O', 'O', 'O', 'O', 'O', 'O', 'O', 'O', 'O', 'O', 'O', 'O', 'GPE', 'O', 'O', 'O', 'O', 'PERSON', 'PERSON', 'O', 'O', 'O', 'O', 'O', 'O', 'O', 'O', 'O', 'O', 'O', 'O', 'O', 'O', 'O', 'O', 'O', 'O', 'O', 'O', 'O', 'O', 'O', 'O', 'O', 'O', 'O', 'O', 'O', 'O', 'O', 'O', 'O', 'O', 'O', 'O', 'O', 'O', 'O', 'O', 'O', 'O', 'PERSON', 'PERSON', 'PERSON', 'O', 'O', 'O', 'O', 'O', 'O', 'O', 'O', 'O', 'O', 'O', 'O', 'O', 'O', 'O', 'O', 'O', 'O', 'O', 'O', 'O', 'O', 'O', 'O', 'O', 'O', 'O', 'O', 'O', 'O', 'O', 'O', 'O', 'O', 'O', 'O', 'O', 'O', 'O', 'O', 'O', 'O', 'GPE', 'O', 'O', 'PERSON', 'PERSON', 'O', 'O', 'O', 'O', 'O', 'O', 'O', 'O', 'O', 'O', 'O', 'O', 'O', 'O', 'O', 'O', 'O', 'O', 'O', 'O', 'O', 'O', 'O', 'O', 'O', 'O', 'O', 'O', 'O', 'O', 'O', 'O', 'O', 'O', 'O', 'O', 'O', 'O', 'O', 'O', 'O', 'O', 'O', 'O', 'ORG', 'ORG', 'ORG', 'O', 'O', 'O', 'O', 'O', 'O', 'O', 'O', 'O', 'O', 'O', 'O', 'O', 'O', 'O', 'O', 'O', 'O', 'O', 'O', 'O', 'GPE', 'GPE', 'GPE', 'O', 'O', 'O', 'O', 'O', 'O', 'O', 'O', 'O', 'O', 'O', 'O', 'O', 'O', 'O', 'O', 'O', 'O', 'O', 'O']\n"
     ]
    }
   ],
   "source": [
    "entity_pred2 = []\n",
    "\n",
    "for X in S2[7050:7500]:\n",
    "    if X.ent_type_ == \"GPE\" or X.ent_type_ == \"PERSON\" or X.ent_type_ == \"ORG\" or X.ent_type_ == \"FAC\" or X.ent_type_ == \"LOC\":\n",
    "        entity_pred2.append(X.ent_type_)\n",
    "    elif X.ent_type_==\"\":\n",
    "        entity_pred2.append('O')\n",
    "        \n",
    "print(entity_pred2)"
   ]
  },
  {
   "cell_type": "markdown",
   "metadata": {},
   "source": [
    "#### Now we convert this predicted entity list into a list of list manually such that each list element consists of only one entity"
   ]
  },
  {
   "cell_type": "code",
   "execution_count": 61,
   "metadata": {},
   "outputs": [],
   "source": [
    "entity_pred2 = [['O', 'O', 'O', 'O', 'B-ORG', 'I-ORG', 'I-ORG', 'I-ORG', 'O', 'O', 'O', 'O', 'O', 'O', 'O', 'O', 'O', 'O'], ['B-PERSON', 'I-PERSON', 'O', 'O'], ['B-ORG', 'I-ORG', 'I-ORG', 'O', 'O', 'O', 'O', 'O', 'O', 'O', 'O', 'O', 'O', 'O'], ['B-PERSON', 'I-PERSON', 'I-PERSON', 'O', 'O', 'O', 'O', 'O', 'O', 'O', 'O', 'O', 'O', 'O', 'O', 'O', 'O', 'O', 'O', 'O', 'O', 'O', 'O', 'O', 'O', 'O', 'O', 'O', 'O', 'O', 'O', 'O', 'O', 'O', 'O', 'O', 'O', 'O', 'O', 'O', 'O', 'O', 'O', 'O', 'O', 'O', 'O', 'O', 'O', 'O', 'O', 'O', 'O', 'O', 'O', 'O', 'O', 'O', 'O', 'O', 'O', 'O', 'O', 'O', 'O', 'O', 'O', 'O', 'O', 'O', 'O', 'O', 'O', 'O', 'O', 'O', 'O', 'O', 'O', 'O', 'O', 'O', 'O', 'O', 'O', 'O', 'O', 'O', 'O', 'O', 'O', 'O', 'O', 'O', 'O', 'O', 'O', 'O', 'O', 'O', 'O', 'O', 'O', 'O', 'O', 'O', 'O', 'O', 'O', 'O', 'O', 'O', 'O', 'O', 'O', 'O', 'O', 'O', 'O'], ['B-LOC', 'O', 'O'], ['B-ORG', 'I-ORG', 'I-ORG', 'O', 'O', 'O', 'O', 'O', 'O', 'O', 'O', 'O', 'O', 'O', 'O', 'O', 'O', 'O', 'O', 'O', 'O', 'O', 'O', 'O', 'O', 'O', 'O', 'O', 'O', 'O', 'O', 'O', 'O', 'O', 'O', 'O', 'O', 'O', 'O', 'O', 'O', 'O', 'O', 'O', 'O', 'O', 'O', 'O', 'O', 'O', 'O', 'O', 'O', 'O', 'O', 'O', 'O', 'O', 'O', 'O', 'O', 'O', 'O', 'O', 'O', 'O', 'O', 'O', 'O', 'O', 'O', 'O', 'O', 'O', 'O', 'O', 'O', 'O', 'O', 'O', 'O', 'O', 'O'], ['B-PERSON', 'I-PERSON', 'O', 'O', 'O', 'O', 'O', 'O', 'O', 'O', 'O', 'O', 'O', 'O', 'O', 'O', 'O', 'O', 'O', 'O'], ['B-GPE', 'O', 'O', 'O', 'O'], ['B-PERSON', 'I-PERSON', 'O', 'O', 'O', 'O', 'O', 'O', 'O', 'O', 'O', 'O', 'O', 'O', 'O', 'O', 'O', 'O', 'O', 'O', 'O', 'O', 'O', 'O', 'O', 'O', 'O', 'O', 'O', 'O', 'O', 'O', 'O', 'O', 'O', 'O', 'O', 'O', 'O', 'O', 'O', 'O', 'O', 'O', 'O', 'O', 'O', 'O', 'O', 'O', 'O', 'O', 'O', 'O', 'O', 'O', 'O', 'O', 'O', 'O', 'O', 'O', 'O', 'O', 'O', 'O', 'O', 'O', 'O', 'O', 'O', 'O', 'O', 'O', 'O', 'O', 'O', 'O', 'O', 'O', 'O', 'O', 'O', 'O', 'O', 'O', 'O', 'O', 'O'], ['B-LOC', 'O', 'O'], ['B-PERSON', 'I-PERSON', 'O', 'O', 'O', 'O', 'O', 'O', 'O', 'O', 'O', 'O', 'O', 'O', 'O', 'O', 'O', 'O', 'O', 'O', 'O', 'O', 'O', 'O', 'O', 'O', 'O', 'O', 'O', 'O', 'O', 'O', 'O', 'O', 'O', 'O', 'O', 'O', 'O', 'O', 'O', 'O', 'O', 'O', 'O', 'O'], ['B-ORG', 'I-ORG', 'I-ORG', 'I-ORG', 'O', 'O', 'O', 'O', 'O', 'O', 'O', 'O', 'O', 'O', 'O', 'O', 'O', 'O', 'O', 'O', 'O', 'O', 'O', 'O'], ['B-ORG', 'I-ORG', 'I-ORG', 'O', 'O', 'O', 'O', 'O', 'O', 'O', 'O', 'O', 'O', 'O', 'O', 'O', 'O']] "
   ]
  },
  {
   "cell_type": "markdown",
   "metadata": {},
   "source": [
    "#### We now create a entity type list of the actual values in the paragraph which we tagged manually"
   ]
  },
  {
   "cell_type": "code",
   "execution_count": 62,
   "metadata": {},
   "outputs": [],
   "source": [
    "entity_true2 = [['O', 'O', 'O', 'O', 'B-PERSON', 'I-PERSON', 'I-PERSON', 'I-PERSON', 'O', 'O', 'O', 'O', 'O', 'O', 'O', 'O', 'O', 'O'], ['O', 'O', 'O', 'O'], ['B-PERSON', 'I-PERSON', 'I-PERSON', 'O', 'O', 'O', 'O', 'O', 'O', 'O', 'O', 'O', 'O', 'O'], ['B-PERSON', 'I-PERSON', 'I-PERSON', 'O', 'O', 'O', 'O', 'O', 'O', 'O', 'O', 'O', 'O', 'O', 'O', 'O', 'O', 'O', 'O', 'O', 'O', 'O', 'O', 'O', 'O', 'O', 'O', 'O', 'O', 'O', 'O', 'O', 'O', 'O', 'O', 'O', 'O', 'O', 'O', 'O', 'O', 'O', 'O', 'O', 'O', 'O', 'O', 'O', 'O', 'O', 'O', 'O', 'O', 'O', 'O', 'O', 'O', 'O', 'O', 'O', 'O', 'O', 'O', 'O', 'O', 'O', 'O', 'O', 'O', 'O', 'O', 'O', 'O', 'O', 'O', 'O', 'O', 'O', 'O', 'O', 'O', 'O', 'O', 'O', 'O', 'O', 'O', 'O', 'O', 'O', 'O', 'O', 'O', 'O', 'O', 'O', 'O', 'O', 'O', 'O', 'O', 'O', 'O', 'O', 'O', 'O', 'O', 'O', 'O', 'O', 'O', 'O', 'O', 'O', 'O', 'O', 'O', 'O', 'O'], ['B-LOC', 'O', 'O'], ['B-ORG', 'I-ORG', 'I-ORG', 'O', 'O', 'O', 'O', 'O', 'O', 'O', 'O', 'O', 'O', 'O', 'O', 'O', 'O', 'O', 'O', 'O', 'O', 'O', 'O', 'O', 'O', 'O', 'O', 'O', 'O', 'O', 'O', 'O', 'O', 'O', 'O', 'O', 'O', 'O', 'O', 'O', 'O', 'O', 'O', 'O', 'O', 'O', 'O', 'O', 'O', 'O', 'O', 'O', 'O', 'O', 'O', 'O', 'O', 'O', 'O', 'O', 'O', 'O', 'O', 'O', 'O', 'O', 'O', 'O', 'O', 'O', 'O', 'O', 'O', 'O', 'O', 'O', 'O', 'O', 'O', 'O', 'O', 'O', 'O'], ['B-PERSON', 'I-PERSON', 'O', 'O', 'O', 'O', 'O', 'O', 'O', 'O', 'O', 'O', 'O', 'O', 'O', 'O', 'O', 'O', 'O', 'O'], ['B-GPE', 'O', 'O', 'O', 'O'], ['B-PERSON', 'I-PERSON', 'O', 'O', 'O', 'O', 'O', 'O', 'O', 'O', 'O', 'O', 'O', 'O', 'O', 'O', 'O', 'O', 'O', 'O', 'O', 'O', 'O', 'O', 'O', 'O', 'O', 'O', 'O', 'O', 'O', 'O', 'O', 'O', 'O', 'O', 'O', 'O', 'O', 'O', 'O', 'O', 'O', 'O', 'O', 'O', 'O', 'O', 'O', 'O', 'O', 'O', 'O', 'O', 'O', 'O', 'O', 'O', 'O', 'O', 'O', 'O', 'O', 'O', 'O', 'O', 'O', 'O', 'O', 'O', 'O', 'O', 'O', 'O', 'O', 'O', 'O', 'O', 'O', 'O', 'O', 'O', 'O', 'O', 'O', 'O', 'O', 'O', 'O'], ['B-LOC', 'O', 'O'], ['B-PERSON', 'I-PERSON', 'O', 'O', 'O', 'O', 'O', 'O', 'O', 'O', 'O', 'O', 'O', 'O', 'O', 'O', 'O', 'O', 'O', 'O', 'O', 'O', 'O', 'O', 'O', 'O', 'O', 'O', 'O', 'O', 'O', 'O', 'O', 'O', 'O', 'O', 'O', 'O', 'O', 'O', 'O', 'O', 'O', 'O', 'O', 'O'], ['B-PERSON', 'I-PERSON', 'I-PERSON', 'I-PERSON', 'O', 'O', 'O', 'O', 'O', 'O', 'O', 'O', 'O', 'O', 'O', 'O', 'O', 'O', 'O', 'O', 'O', 'O', 'O', 'O'], ['B-PERSON', 'I-PERSON', 'I-PERSON', 'O', 'O', 'O', 'O', 'O', 'O', 'O', 'O', 'O', 'O', 'O', 'O', 'O', 'O']] "
   ]
  },
  {
   "cell_type": "markdown",
   "metadata": {},
   "source": [
    "#### Finding the F-score between actual entity types and predicted entity types"
   ]
  },
  {
   "cell_type": "code",
   "execution_count": 63,
   "metadata": {},
   "outputs": [
    {
     "data": {
      "text/plain": [
       "0.64"
      ]
     },
     "execution_count": 63,
     "metadata": {},
     "output_type": "execute_result"
    }
   ],
   "source": [
    "f1_score(entity_true2, entity_pred2)"
   ]
  },
  {
   "cell_type": "markdown",
   "metadata": {},
   "source": [
    "#### Below is the accuracy score for the same"
   ]
  },
  {
   "cell_type": "code",
   "execution_count": 64,
   "metadata": {},
   "outputs": [
    {
     "data": {
      "text/plain": [
       "0.9640449438202248"
      ]
     },
     "execution_count": 64,
     "metadata": {},
     "output_type": "execute_result"
    }
   ],
   "source": [
    "accuracy_score(entity_true2, entity_pred2)"
   ]
  },
  {
   "cell_type": "markdown",
   "metadata": {},
   "source": [
    "# Additonal Exercise"
   ]
  },
  {
   "cell_type": "markdown",
   "metadata": {},
   "source": [
    "<b> We were not able to find pre-built algorithms or classifiers for relation extraction so we tried to do it manualy. Following are some of the relations we extracted in both the books.</b>"
   ]
  },
  {
   "cell_type": "markdown",
   "metadata": {},
   "source": [
    "<b> Book 1</b>\n",
    "[\"Rampatina Liner\", \"Liverpool\"] - Part-Of<br>\n",
    "[\"pilot\", \"yatch\"] - Affiliation<br>\n",
    "[\"Pressman\", \"notebook\"] - Affiliation<br>\n",
    "[\"Pandemonium\", \"Mid-Ocean\"] - Part-Of<br>\n",
    "\n",
    "<b>Book 2</b>\n",
    "[\"Corral\", \"Buckler Farm\"] - Part-Of<br>\n",
    "[\"Thorns\", \"Crown\"] - Part-Of<br>\n",
    "[\"fields\", \"house\"] - Geospatial<br>\n",
    "[\"Vera Sovna\", \"England\"] - Affiliation<br>\n",
    "[\"townsfolk\", \"landholders\"] - Affiliations<br>\n",
    "[\"Cornwall\", \"Hucksteppe\"] - Geospatial<br>\n",
    "[\"Storm\", \"Rain\"] - Affiliations<br>"
   ]
  },
  {
   "cell_type": "code",
   "execution_count": null,
   "metadata": {},
   "outputs": [],
   "source": []
  }
 ],
 "metadata": {
  "kernelspec": {
   "display_name": "Python 3",
   "language": "python",
   "name": "python3"
  },
  "language_info": {
   "codemirror_mode": {
    "name": "ipython",
    "version": 3
   },
   "file_extension": ".py",
   "mimetype": "text/x-python",
   "name": "python",
   "nbconvert_exporter": "python",
   "pygments_lexer": "ipython3",
   "version": "3.7.3"
  }
 },
 "nbformat": 4,
 "nbformat_minor": 2
}
